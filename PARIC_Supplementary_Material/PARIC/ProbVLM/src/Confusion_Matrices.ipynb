{
 "cells": [
  {
   "cell_type": "code",
   "execution_count": 14,
   "id": "f4aeac6c",
   "metadata": {},
   "outputs": [],
   "source": [
    "# Constants for total numbers\n",
    "total_male = 188\n",
    "total_female = 188\n",
    "\n",
    "# File paths\n",
    "eval_file_path = '../GALS/eval/test_coco_image_id_tracking.txt'"
   ]
  },
  {
   "cell_type": "code",
   "execution_count": 16,
   "id": "ecd4ca43",
   "metadata": {},
   "outputs": [],
   "source": [
    "def parse_file(file_path):\n",
    "    data = {}\n",
    "    with open(file_path, \"r\") as file:\n",
    "        lines = file.readlines()\n",
    "\n",
    "        # Process the file content\n",
    "        for i in range(0, len(lines), 2):  # Process two lines at a time (key, values)\n",
    "            key_line = lines[i].strip()  # e.g., \"male_tp:\"\n",
    "            value_line = lines[i+1].strip()  # e.g., \"./data/COCO/val2014/... , ...\"\n",
    "\n",
    "            # Extract the key and remove the trailing colon\n",
    "            key = key_line[:-1]  # Remove the colon from the key\n",
    "\n",
    "            # Split the values into a list\n",
    "            values = value_line.split(\", \")\n",
    "            # Remove any empty strings caused by trailing commas\n",
    "            values = [v for v in values if v]\n",
    "\n",
    "            # Store the key-value pair\n",
    "            data[key] = values\n",
    "\n",
    "    return data"
   ]
  },
  {
   "cell_type": "code",
   "execution_count": 24,
   "id": "d75ad3ef",
   "metadata": {},
   "outputs": [
    {
     "name": "stdout",
     "output_type": "stream",
     "text": [
      "Male Percentages:\n",
      "male_tp: 76.60%\n",
      "male_fp: 35.64%\n",
      "male_tn: 64.36%\n",
      "male_fn: 23.40%\n",
      "male_other: 14.36%\n",
      "female_tp: 59.57%\n",
      "female_fp: 9.04%\n",
      "female_tn: 90.96%\n",
      "female_fn: 40.43%\n",
      "female_other: 4.79%\n",
      "female_total: 100.00%\n",
      "male_total: 100.00%\n"
     ]
    }
   ],
   "source": [
    "def calculate_male_percentages(file_path, total_males):\n",
    "    \"\"\"\n",
    "    Calculate percentages for male categories based on a total number of males.\n",
    "\n",
    "    Args:\n",
    "        file_path (str): Path to the image ID tracking file.\n",
    "        total_males (int): Total number of males.\n",
    "\n",
    "    Returns:\n",
    "        dict: A dictionary with category percentages for males.\n",
    "    \"\"\"\n",
    "    # Parse the file to get the data\n",
    "    data = parse_file(file_path)\n",
    "    \n",
    "    # Extract relevant keys for males\n",
    "    male_counts = {}\n",
    "    for key, image_ids in data.items():\n",
    "        if \"male\" in key:\n",
    "            # Count the number of items in this category\n",
    "            male_counts[key] = len(image_ids)\n",
    "    \n",
    "    # Calculate percentages\n",
    "    male_percentages = {key: (count / total_males) * 100 for key, count in male_counts.items()}\n",
    "    \n",
    "    return male_percentages\n",
    "\n",
    "# Example usage\n",
    "eval_file_path = '../GALS/eval/test_coco_image_id_tracking.txt'\n",
    "\n",
    "total_males = 188\n",
    "\n",
    "male_percentages = calculate_male_percentages(eval_file_path, total_males)\n",
    "print(\"Male Percentages:\")\n",
    "for category, percentage in male_percentages.items():\n",
    "    print(f\"{category}: {percentage:.2f}%\")\n"
   ]
  },
  {
   "cell_type": "code",
   "execution_count": 23,
   "id": "324167ed",
   "metadata": {},
   "outputs": [
    {
     "name": "stdout",
     "output_type": "stream",
     "text": [
      "male_tp 144\n",
      "male_fp 67\n",
      "male_tn 121\n",
      "male_fn 44\n",
      "male_other 27\n",
      "female_tp 112\n",
      "female_fp 17\n",
      "female_tn 171\n",
      "female_fn 76\n",
      "female_other 9\n",
      "female_total 188\n",
      "male_total 188\n",
      "Male Percentages:\n"
     ]
    },
    {
     "ename": "AttributeError",
     "evalue": "'NoneType' object has no attribute 'items'",
     "output_type": "error",
     "traceback": [
      "\u001b[0;31m---------------------------------------------------------------------------\u001b[0m",
      "\u001b[0;31mAttributeError\u001b[0m                            Traceback (most recent call last)",
      "Cell \u001b[0;32mIn[23], line 35\u001b[0m\n\u001b[1;32m     33\u001b[0m male_percentages \u001b[38;5;241m=\u001b[39m calculate_male_percentages(eval_file_path, total)\n\u001b[1;32m     34\u001b[0m \u001b[38;5;28mprint\u001b[39m(\u001b[38;5;124m\"\u001b[39m\u001b[38;5;124mMale Percentages:\u001b[39m\u001b[38;5;124m\"\u001b[39m)\n\u001b[0;32m---> 35\u001b[0m \u001b[38;5;28;01mfor\u001b[39;00m category, percentage \u001b[38;5;129;01min\u001b[39;00m \u001b[43mmale_percentages\u001b[49m\u001b[38;5;241;43m.\u001b[39;49m\u001b[43mitems\u001b[49m():\n\u001b[1;32m     36\u001b[0m     \u001b[38;5;28mprint\u001b[39m(\u001b[38;5;124mf\u001b[39m\u001b[38;5;124m\"\u001b[39m\u001b[38;5;132;01m{\u001b[39;00mcategory\u001b[38;5;132;01m}\u001b[39;00m\u001b[38;5;124m: \u001b[39m\u001b[38;5;132;01m{\u001b[39;00mpercentage\u001b[38;5;132;01m:\u001b[39;00m\u001b[38;5;124m.2f\u001b[39m\u001b[38;5;132;01m}\u001b[39;00m\u001b[38;5;124m%\u001b[39m\u001b[38;5;124m\"\u001b[39m)\n",
      "\u001b[0;31mAttributeError\u001b[0m: 'NoneType' object has no attribute 'items'"
     ]
    }
   ],
   "source": [
    "def calculate_male_percentages(file_path, total_males):\n",
    "    \"\"\"\n",
    "    Calculate percentages for male categories based on a total number of males.\n",
    "\n",
    "    Args:\n",
    "        file_path (str): Path to the image ID tracking file.\n",
    "        total_males (int): Total number of males.\n",
    "\n",
    "    Returns:\n",
    "        dict: A dictionary with category percentages for males.\n",
    "    \"\"\"\n",
    "    # Parse the file to get the data\n",
    "    data = parse_file(file_path)\n",
    "    \n",
    "    # Extract relevant keys for males\n",
    "    male_counts = {}\n",
    "    for key, image_ids in data.items():\n",
    "        if \"male\" in key:\n",
    "            # Count the number of items in this category\n",
    "            male_counts[key] = len(image_ids)\n",
    "            print(key, male_counts[key])\n",
    "    \n",
    "    # Calculate percentages\n",
    "#     male_percentages = {key: (count / total_males) * 100 for key, count in male_counts.items()}\n",
    "    \n",
    "#     return male_percentages\n",
    "\n",
    "# Example usage\n",
    "eval_file_path = '../GALS/eval/test_coco_image_id_tracking.txt'\n",
    "\n",
    "total = 188\n",
    "\n",
    "male_percentages = calculate_male_percentages(eval_file_path, total)\n",
    "print(\"Male Percentages:\")\n",
    "for category, percentage in male_percentages.items():\n",
    "    print(f\"{category}: {percentage:.2f}%\")\n"
   ]
  },
  {
   "cell_type": "code",
   "execution_count": 1,
   "id": "b000c4c7",
   "metadata": {},
   "outputs": [
    {
     "data": {
      "image/png": "[encoded data removed]",
      "text/plain": [
       "<Figure size 800x500 with 1 Axes>"
      ]
     },
     "metadata": {},
     "output_type": "display_data"
    }
   ],
   "source": [
    "import matplotlib.pyplot as plt\n",
    "import numpy as np\n",
    "from matplotlib import cm  # For colormap\n",
    "# Data\n",
    "categories = ['Per Group', 'Worst Group'] # worst-group is waterbirds on land\n",
    "methods = ['GALS', 'EGALS_mean', 'EGALS_median']\n",
    "data = {\n",
    "    'Per Group': [95.10, 95.60,95.97],\n",
    "    'Worst Group': [94.95, 92.43, 94.11],\n",
    "}\n",
    "\n",
    "# Plot settings\n",
    "bar_width = 0.15\n",
    "x = np.arange(len(categories))\n",
    "\n",
    "# Colormap for the bars\n",
    "cmap = cm.get_cmap('Pastel1', len(methods))  # 'Pastel1' colormap with the number of methods\n",
    "colors = [cmap(i) for i in range(len(methods))]  # Get colors for the methods\n",
    "\n",
    "# Create the plot\n",
    "fig, ax = plt.subplots(figsize=(8, 5))\n",
    "\n",
    "# Loop through methods to create grouped bars with colors from colormap\n",
    "for i, method in enumerate(methods):\n",
    "    values = [data[cat][i] for cat in categories]\n",
    "    ax.bar(x + i * bar_width, values, bar_width, label=method, color=colors[i])\n",
    "\n",
    "# Add labels, title, and legend\n",
    "ax.set_xlabel('Categories', fontsize=12)\n",
    "ax.set_ylabel('Accuracy (%)', fontsize=12)\n",
    "ax.set_title('Waterbirds 100%', fontsize=14)\n",
    "ax.set_xticks(x + bar_width * (len(methods) - 1) / 2)\n",
    "ax.set_xticklabels(categories)\n",
    "ax.set_ylim(0, 100)\n",
    "ax.legend(title='Methods', bbox_to_anchor=(1.05, 1), loc='upper left')\n",
    "\n",
    "# Add vertical dashed lines to separate groups\n",
    "# ax.axvline(x=0.5 - bar_width / 2, color='black', linestyle='--', linewidth=1)\n",
    "\n",
    "# Display the plot\n",
    "plt.tight_layout()\n",
    "plt.show()\n"
   ]
  },
  {
   "cell_type": "markdown",
   "id": "86824e6c",
   "metadata": {},
   "source": [
    "### CUB"
   ]
  },
  {
   "cell_type": "code",
   "execution_count": 1,
   "id": "08843826",
   "metadata": {},
   "outputs": [],
   "source": [
    "run4439 = {}\n",
    "run4439['GALS'] = {\n",
    "        \"test_acc\": 0.9683181664981463,\n",
    "        \"balanced_test_acc\": 0.9556569487696687,\n",
    "        \"Land_on_Land_test_acc\": 0.9788329519450801,\n",
    "        \"Land_on_Water_test_acc\": 0.9553903345724907,\n",
    "        \"Water_on_Land_test_acc\": 0.9327731092436975,\n",
    "        \"Water_on_Water_test_acc\": 0.9556313993174061,\n",
    "        \"test_acc_Landbird\": 0.9714285714285714,\n",
    "        \"test_acc_Waterbird\": 0.9490291262135923\n",
    "    }\n",
    "run4439['median'] = {\n",
    "    \"test_acc\": 0.9646107178968655,\n",
    "    \"balanced_test_acc\": 0.9512920587424729,\n",
    "    \"Land_on_Land_test_acc\": 0.9759725400457666,\n",
    "    \"Land_on_Water_test_acc\": 0.9491945477075588,\n",
    "    \"Water_on_Land_test_acc\": 0.9243697478991597,\n",
    "    \"Water_on_Water_test_acc\": 0.9556313993174061,\n",
    "    \"test_acc_Landbird\": 0.9675146771037182,\n",
    "    \"test_acc_Waterbird\": 0.9466019417475728\n",
    "}\n",
    "run4439['mean'] = {\n",
    "    \"test_acc\": 0.9605662285136501,\n",
    "    \"balanced_test_acc\": 0.9512000938474916,\n",
    "    \"Land_on_Land_test_acc\": 0.9696796338672768,\n",
    "    \"Land_on_Water_test_acc\": 0.9467162329615861,\n",
    "    \"Water_on_Land_test_acc\": 0.9327731092436975,\n",
    "    \"Water_on_Water_test_acc\": 0.9556313993174061,\n",
    "    \"test_acc_Landbird\": 0.962426614481409,\n",
    "    \"test_acc_Waterbird\": 0.9490291262135923\n",
    "}"
   ]
  },
  {
   "cell_type": "code",
   "execution_count": 2,
   "id": "6e0f67aa",
   "metadata": {},
   "outputs": [],
   "source": [
    "run4456 = {}\n",
    "run4456['GALS'] = {\n",
    "    \"test_acc\": 0.974721941354904,\n",
    "    \"balanced_test_acc\": 0.9651742716979701,\n",
    "    \"Land_on_Land_test_acc\": 0.9799771167048055,\n",
    "    \"Land_on_Water_test_acc\": 0.9702602230483272,\n",
    "    \"Water_on_Land_test_acc\": 0.9411764705882353,\n",
    "    \"Water_on_Water_test_acc\": 0.9692832764505119,\n",
    "    \"test_acc_Landbird\": 0.9769080234833659,\n",
    "    \"test_acc_Waterbird\": 0.9611650485436893\n",
    "}\n",
    "run4456['median'] = {\n",
    "    \"test_acc\": 0.9743849005729693,\n",
    "    \"balanced_test_acc\": 0.960022628977411,\n",
    "    \"Land_on_Land_test_acc\": 0.9811212814645309,\n",
    "    \"Land_on_Water_test_acc\": 0.9739776951672863,\n",
    "    \"Water_on_Land_test_acc\": 0.9327731092436975,\n",
    "    \"Water_on_Water_test_acc\": 0.9522184300341296,\n",
    "    \"test_acc_Landbird\": 0.9788649706457926,\n",
    "    \"test_acc_Waterbird\": 0.9466019417475728\n",
    "}\n",
    "run4456['mean'] = {\n",
    "    \"test_acc\": 0.9666329625884732,\n",
    "    \"balanced_test_acc\": 0.9578198027428731,\n",
    "    \"Land_on_Land_test_acc\": 0.9759725400457666,\n",
    "    \"Land_on_Water_test_acc\": 0.9516728624535316,\n",
    "    \"Water_on_Land_test_acc\": 0.9411764705882353,\n",
    "    \"Water_on_Water_test_acc\": 0.962457337883959,\n",
    "    \"test_acc_Landbird\": 0.9682974559686889,\n",
    "    \"test_acc_Waterbird\": 0.9563106796116505\n",
    "}"
   ]
  },
  {
   "cell_type": "code",
   "execution_count": 3,
   "id": "00f6cb24",
   "metadata": {},
   "outputs": [],
   "source": [
    "run3804 = {}\n",
    "run3804['GALS'] = {\n",
    "    \"test_acc\": 0.9696663296258847,\n",
    "    \"balanced_test_acc\": 0.9565254986014741,\n",
    "    \"Land_on_Land_test_acc\": 0.9776887871853547,\n",
    "    \"Land_on_Water_test_acc\": 0.9615861214374225,\n",
    "    \"Water_on_Land_test_acc\": 0.9243697478991597,\n",
    "    \"Water_on_Water_test_acc\": 0.962457337883959,\n",
    "    \"test_acc_Landbird\": 0.9726027397260274,\n",
    "    \"test_acc_Waterbird\": 0.9514563106796117\n",
    "}\n",
    "run3804['median'] = {\n",
    "    \"test_acc\": 0.9625884732052579,\n",
    "    \"balanced_test_acc\": 0.9546891888396887,\n",
    "    \"Land_on_Land_test_acc\": 0.9696796338672768,\n",
    "    \"Land_on_Water_test_acc\": 0.9504337050805453,\n",
    "    \"Water_on_Land_test_acc\": 0.9327731092436975,\n",
    "    \"Water_on_Water_test_acc\": 0.9658703071672355,\n",
    "    \"test_acc_Landbird\": 0.963600782778865,\n",
    "    \"test_acc_Waterbird\": 0.9563106796116505\n",
    "}\n",
    "run3804['mean'] = {\n",
    "    \"test_acc\": 0.9710144927536232,\n",
    "    \"balanced_test_acc\": 0.9569247355449451,\n",
    "    \"Land_on_Land_test_acc\": 0.9811212814645309,\n",
    "    \"Land_on_Water_test_acc\": 0.9615861214374225,\n",
    "    \"Water_on_Land_test_acc\": 0.9327731092436975,\n",
    "    \"Water_on_Water_test_acc\": 0.9522184300341296,\n",
    "    \"test_acc_Landbird\": 0.9749510763209394,\n",
    "    \"test_acc_Waterbird\": 0.9466019417475728\n",
    "}"
   ]
  },
  {
   "cell_type": "code",
   "execution_count": 4,
   "id": "a83adc6c",
   "metadata": {},
   "outputs": [],
   "source": [
    "run5804 = {}\n",
    "run5804['GALS'] = {\n",
    "    \"test_acc\": 0.9716885743174924,\n",
    "    \"balanced_test_acc\": 0.9609225774243139,\n",
    "    \"Land_on_Land_test_acc\": 0.9794050343249427,\n",
    "    \"Land_on_Water_test_acc\": 0.9640644361833953,\n",
    "    \"Water_on_Land_test_acc\": 0.9411764705882353,\n",
    "    \"Water_on_Water_test_acc\": 0.9590443686006825,\n",
    "    \"test_acc_Landbird\": 0.974559686888454,\n",
    "    \"test_acc_Waterbird\": 0.9538834951456311\n",
    "}\n",
    "run5804['median'] = {\n",
    "    \"test_acc\": 0.961577350859454,\n",
    "    \"balanced_test_acc\": 0.95838568201814,\n",
    "    \"Land_on_Land_test_acc\": 0.9679633867276888,\n",
    "    \"Land_on_Water_test_acc\": 0.9467162329615861,\n",
    "    \"Water_on_Land_test_acc\": 0.9495798319327731,\n",
    "    \"Water_on_Water_test_acc\": 0.9692832764505119,\n",
    "    \"test_acc_Landbird\": 0.961252446183953,\n",
    "    \"test_acc_Waterbird\": 0.9635922330097088\n",
    "}\n",
    "run5804['mean'] = {\n",
    "    \"test_acc\": 0.9723626558813616,\n",
    "    \"balanced_test_acc\": 0.9583738083989422,\n",
    "    \"Land_on_Land_test_acc\": 0.9822654462242563,\n",
    "    \"Land_on_Water_test_acc\": 0.9628252788104089,\n",
    "    \"Water_on_Land_test_acc\": 0.9327731092436975,\n",
    "    \"Water_on_Water_test_acc\": 0.9556313993174061,\n",
    "    \"test_acc_Landbird\": 0.9761252446183953,\n",
    "    \"test_acc_Waterbird\": 0.9490291262135923\n",
    "}"
   ]
  },
  {
   "cell_type": "code",
   "execution_count": 5,
   "id": "adf36706",
   "metadata": {},
   "outputs": [],
   "source": [
    "run0 = {}\n",
    "run0['GALS'] = {\n",
    "    \"test_acc\": 0.948432760364004,\n",
    "    \"balanced_test_acc\": 0.9510597160488481,\n",
    "    \"Land_on_Land_test_acc\": 0.9553775743707094,\n",
    "    \"Land_on_Water_test_acc\": 0.9231722428748451,\n",
    "    \"Water_on_Land_test_acc\": 0.9495798319327731,\n",
    "    \"Water_on_Water_test_acc\": 0.9761092150170648,\n",
    "    \"test_acc_Landbird\": 0.9452054794520548,\n",
    "    \"test_acc_Waterbird\": 0.9684466019417476\n",
    "}\n",
    "run0['median'] = {\n",
    "    \"test_acc\": 0.9713515335355578,\n",
    "    \"balanced_test_acc\": 0.9596926508742032,\n",
    "    \"Land_on_Land_test_acc\": 0.9788329519450801,\n",
    "    \"Land_on_Water_test_acc\": 0.966542750929368,\n",
    "    \"Water_on_Land_test_acc\": 0.9411764705882353,\n",
    "    \"Water_on_Water_test_acc\": 0.9522184300341296,\n",
    "    \"test_acc_Landbird\": 0.9749510763209394,\n",
    "    \"test_acc_Waterbird\": 0.9490291262135923\n",
    "}\n",
    "run0['mean'] = {\n",
    "    \"test_acc\": 0.9696663296258847,\n",
    "    \"balanced_test_acc\": 0.9560251923566313,\n",
    "    \"Land_on_Land_test_acc\": 0.9794050343249427,\n",
    "    \"Land_on_Water_test_acc\": 0.9578686493184635,\n",
    "    \"Water_on_Land_test_acc\": 0.9243697478991597,\n",
    "    \"Water_on_Water_test_acc\": 0.962457337883959,\n",
    "    \"test_acc_Landbird\": 0.9726027397260274,\n",
    "    \"test_acc_Waterbird\": 0.9514563106796117\n",
    "}"
   ]
  },
  {
   "cell_type": "code",
   "execution_count": 18,
   "id": "0b1c42fd",
   "metadata": {},
   "outputs": [],
   "source": [
    "runs_cub_gals = [run0['GALS'], run5804['GALS'], run3804['GALS'], run4439['GALS'], run4456['GALS']]"
   ]
  },
  {
   "cell_type": "code",
   "execution_count": 27,
   "id": "bccd16b7",
   "metadata": {},
   "outputs": [],
   "source": [
    "import numpy as np\n",
    "averaged_metrics = {}\n",
    "for key in runs_cub_gals[0].keys():\n",
    "    averaged_metrics[key] = sum([metric[key]*100 for metric in runs_cub_gals]) / len(runs_cub_gals)\n",
    "std_devs = {metric: np.std([run[metric]*100 for run in runs_cub_gals]) for metric in runs_cub_gals[0].keys()}"
   ]
  },
  {
   "cell_type": "code",
   "execution_count": 28,
   "id": "91f61588",
   "metadata": {},
   "outputs": [
    {
     "data": {
      "text/plain": [
       "{'test_acc': 96.65655544320863,\n",
       " 'balanced_test_acc': 95.78678025084551,\n",
       " 'Land_on_Land_test_acc': 97.42562929061783,\n",
       " 'Land_on_Water_test_acc': 95.48946716232962,\n",
       " 'Water_on_Land_test_acc': 93.78151260504201,\n",
       " 'Water_on_Water_test_acc': 96.45051194539249,\n",
       " 'test_acc_Landbird': 96.81409001956948,\n",
       " 'test_acc_Waterbird': 95.67961165048544}"
      ]
     },
     "execution_count": 28,
     "metadata": {},
     "output_type": "execute_result"
    }
   ],
   "source": [
    "averaged_metrics"
   ]
  },
  {
   "cell_type": "code",
   "execution_count": 29,
   "id": "e605cb25",
   "metadata": {},
   "outputs": [
    {
     "data": {
      "text/plain": [
       "{'test_acc': 0.9319406171565169,\n",
       " 'balanced_test_acc': 0.4811566004501584,\n",
       " 'Land_on_Land_test_acc': 0.9469648373710988,\n",
       " 'Land_on_Water_test_acc': 1.6562115932196928,\n",
       " 'Water_on_Land_test_acc': 0.8569780695113893,\n",
       " 'Water_on_Water_test_acc': 0.7351760828852586,\n",
       " 'test_acc_Landbird': 1.1617345584651289,\n",
       " 'test_acc_Waterbird': 0.710132953316888}"
      ]
     },
     "execution_count": 29,
     "metadata": {},
     "output_type": "execute_result"
    }
   ],
   "source": [
    "std_devs"
   ]
  },
  {
   "cell_type": "code",
   "execution_count": 30,
   "id": "ec2a8be3",
   "metadata": {},
   "outputs": [],
   "source": [
    "runs_cub_median = [run0['median'], run5804['median'], run3804['median'], run4439['median'], run4456['median']]"
   ]
  },
  {
   "cell_type": "code",
   "execution_count": 31,
   "id": "17b3fea6",
   "metadata": {},
   "outputs": [],
   "source": [
    "averaged_metrics_median = {}\n",
    "for key in runs_cub_median[0].keys():\n",
    "    averaged_metrics_median[key] = sum([metric[key] for metric in runs_cub_median]) / len(runs_cub_median)\n",
    "\n",
    "averaged_metrics_median\n",
    "\n",
    "std_devs_median = {metric: np.std([run[metric]*100 for run in runs_cub_median]) for metric in runs_cub_median[0].keys()}"
   ]
  },
  {
   "cell_type": "code",
   "execution_count": 37,
   "id": "80cb00a5",
   "metadata": {},
   "outputs": [
    {
     "data": {
      "text/plain": [
       "{'test_acc': 0.966902595214021,\n",
       " 'balanced_test_acc': 0.9568164418903832,\n",
       " 'Land_on_Land_test_acc': 0.9747139588100687,\n",
       " 'Land_on_Water_test_acc': 0.9573729863692689,\n",
       " 'Water_on_Land_test_acc': 0.9361344537815126,\n",
       " 'Water_on_Water_test_acc': 0.9590443686006825,\n",
       " 'test_acc_Landbird': 0.9692367906066537,\n",
       " 'test_acc_Waterbird': 0.9524271844660193}"
      ]
     },
     "execution_count": 37,
     "metadata": {},
     "output_type": "execute_result"
    }
   ],
   "source": [
    "averaged_metrics_median"
   ]
  },
  {
   "cell_type": "code",
   "execution_count": 32,
   "id": "c3656083",
   "metadata": {},
   "outputs": [
    {
     "data": {
      "text/plain": [
       "{'test_acc': 0.5059654601899631,\n",
       " 'balanced_test_acc': 0.3348394930135865,\n",
       " 'Land_on_Land_test_acc': 0.5109179304751952,\n",
       " 'Land_on_Water_test_acc': 1.0848113322547355,\n",
       " 'Water_on_Land_test_acc': 0.8569780695113893,\n",
       " 'Water_on_Water_test_acc': 0.7159104765666594,\n",
       " 'test_acc_Landbird': 0.6690813509622904,\n",
       " 'test_acc_Waterbird': 0.6620476551934914}"
      ]
     },
     "execution_count": 32,
     "metadata": {},
     "output_type": "execute_result"
    }
   ],
   "source": [
    "std_devs_median"
   ]
  },
  {
   "cell_type": "code",
   "execution_count": 33,
   "id": "9f7a9196",
   "metadata": {},
   "outputs": [],
   "source": [
    "runs_cub_mean = [run0['mean'], run5804['mean'], run3804['mean'], run4439['mean'], run4456['mean']]"
   ]
  },
  {
   "cell_type": "code",
   "execution_count": 34,
   "id": "98a55a9c",
   "metadata": {},
   "outputs": [
    {
     "data": {
      "text/plain": [
       "{'test_acc': 0.9680485338725987,\n",
       " 'balanced_test_acc': 0.9560687265781767,\n",
       " 'Land_on_Land_test_acc': 0.9776887871853548,\n",
       " 'Land_on_Water_test_acc': 0.9561338289962826,\n",
       " 'Water_on_Land_test_acc': 0.9327731092436975,\n",
       " 'Water_on_Water_test_acc': 0.957679180887372,\n",
       " 'test_acc_Landbird': 0.970880626223092,\n",
       " 'test_acc_Waterbird': 0.9504854368932039}"
      ]
     },
     "execution_count": 34,
     "metadata": {},
     "output_type": "execute_result"
    }
   ],
   "source": [
    "averaged_metrics_mean = {}\n",
    "for key in runs_cub_mean[0].keys():\n",
    "    averaged_metrics_mean[key] = sum([metric[key] for metric in runs_cub_mean]) / len(runs_cub_mean)\n",
    "\n",
    "averaged_metrics_mean"
   ]
  },
  {
   "cell_type": "code",
   "execution_count": 39,
   "id": "8aaffb1c",
   "metadata": {},
   "outputs": [
    {
     "data": {
      "text/plain": [
       "{'test_acc': 0.4195582425236355,\n",
       " 'balanced_test_acc': 0.25619485233284356,\n",
       " 'Land_on_Land_test_acc': 0.4533549829784631,\n",
       " 'Land_on_Water_test_acc': 0.6100884076872937,\n",
       " 'Water_on_Land_test_acc': 0.5314752370030871,\n",
       " 'Water_on_Water_test_acc': 0.40955631399317743,\n",
       " 'test_acc_Landbird': 0.5003665538785734,\n",
       " 'test_acc_Waterbird': 0.329239319569187}"
      ]
     },
     "execution_count": 39,
     "metadata": {},
     "output_type": "execute_result"
    }
   ],
   "source": [
    "std_devs_mean = {metric: np.std([run[metric]*100 for run in runs_cub_mean]) for metric in runs_cub_mean[0].keys()}\n",
    "std_devs_mean"
   ]
  },
  {
   "cell_type": "markdown",
   "id": "50eb0d71",
   "metadata": {},
   "source": [
    "### COCO"
   ]
  },
  {
   "cell_type": "code",
   "execution_count": 1,
   "id": "25632546",
   "metadata": {},
   "outputs": [],
   "source": [
    "# coco_runs/train_coco_GALS.out = train_coco_GALS_1712_r1.out\n",
    "# coco_runs/train_coco_mean_1712_r1.out\n",
    "# coco_runs/train_coco_median_1712_r1.out\n",
    "run0 = {}\n",
    "run0['GALS'] = {\n",
    "    \"test_acc\": 0.6781914893617021,\n",
    "    \"balanced_test_acc\": 0.6781914893617021,\n",
    "    \"test_acc_Man\": 0.8191489361702128,\n",
    "    \"test_acc_Woman\": 0.5372340425531915,\n",
    "    \"test_male_correct\": 0.8191489361702128,\n",
    "    \"test_male_incorrect\": 0.06914893617021277,\n",
    "    \"test_male_other\": 0.11170212765957446,\n",
    "    \"test_female_correct\": 0.5372340425531915,\n",
    "    \"test_female_incorrect\": 0.425531914893617,\n",
    "    \"test_female_other\": 0.03723404255319149,\n",
    "    \"test_all_correct\": 0.5372340425531915,\n",
    "    \"test_all_incorrect\": 0.425531914893617,\n",
    "    \"test_all_other\": 0.03723404255319149,\n",
    "    \"test_ratio_numerator\": 0.30319148936170215,\n",
    "    \"test_ratio_denominator\": 0.6223404255319149,\n",
    "    \"test_ratio\": 0.48717948717948717,\n",
    "    \"test_outcome_divergence\": 0.13831587136930273\n",
    "}\n",
    "run0['mean'] = {\n",
    "    \"test_acc\": 0.7180851063829787,\n",
    "    \"balanced_test_acc\": 0.7180851063829787,\n",
    "    \"test_acc_Man\": 0.6914893617021277,\n",
    "    \"test_acc_Woman\": 0.7446808510638298,\n",
    "    \"test_male_correct\": 0.6914893617021277,\n",
    "    \"test_male_incorrect\": 0.18617021276595744,\n",
    "    \"test_male_other\": 0.12234042553191489,\n",
    "    \"test_female_correct\": 0.7446808510638298,\n",
    "    \"test_female_incorrect\": 0.2393617021276596,\n",
    "    \"test_female_other\": 0.015957446808510637,\n",
    "    \"test_all_correct\": 0.7446808510638298,\n",
    "    \"test_all_incorrect\": 0.2393617021276596,\n",
    "    \"test_all_other\": 0.015957446808510637,\n",
    "    \"test_ratio_numerator\": 0.4654255319148936,\n",
    "    \"test_ratio_denominator\": 0.4654255319148936,\n",
    "    \"test_ratio\": 1.0,\n",
    "    \"test_outcome_divergence\": 0.03658684579520376\n",
    "}\n",
    "run0['median'] = {\n",
    "    \"test_acc\": 0.6835106382978723,\n",
    "    \"balanced_test_acc\": 0.6835106382978724,\n",
    "    \"test_acc_Man\": 0.7287234042553191,\n",
    "    \"test_acc_Woman\": 0.6382978723404256,\n",
    "    \"test_male_correct\": 0.7287234042553191,\n",
    "    \"test_male_incorrect\": 0.11702127659574468,\n",
    "    \"test_male_other\": 0.15425531914893617,\n",
    "    \"test_female_correct\": 0.6382978723404256,\n",
    "    \"test_female_incorrect\": 0.30851063829787234,\n",
    "    \"test_female_other\": 0.05319148936170213,\n",
    "    \"test_all_correct\": 0.6382978723404256,\n",
    "    \"test_all_incorrect\": 0.30851063829787234,\n",
    "    \"test_all_other\": 0.05319148936170213,\n",
    "    \"test_ratio_numerator\": 0.3776595744680851,\n",
    "    \"test_ratio_denominator\": 0.5186170212765957,\n",
    "    \"test_ratio\": 0.7282051282051282,\n",
    "    \"test_outcome_divergence\": 0.0529200710217126\n",
    "}\n"
   ]
  },
  {
   "cell_type": "code",
   "execution_count": 2,
   "id": "a0f6a97e",
   "metadata": {},
   "outputs": [],
   "source": [
    "# coco_gals_1812_run1.out\n",
    "# coco_runs/train_coco_mean_27.11.out\n",
    "# coco_runs/train_coco_median_27.11.out\n",
    "run01 = {}\n",
    "run01['GALS'] = {\n",
    "    \"test_acc\": 0.7047872340425532,\n",
    "    \"balanced_test_acc\": 0.7047872340425532,\n",
    "    \"test_acc_Man\": 0.723404255319149,\n",
    "    \"test_acc_Woman\": 0.6861702127659575,\n",
    "    \"test_male_correct\": 0.723404255319149,\n",
    "    \"test_male_incorrect\": 0.10638297872340426,\n",
    "    \"test_male_other\": 0.1702127659574468,\n",
    "    \"test_female_correct\": 0.6861702127659575,\n",
    "    \"test_female_incorrect\": 0.24468085106382978,\n",
    "    \"test_female_other\": 0.06914893617021277,\n",
    "    \"test_all_correct\": 0.6861702127659575,\n",
    "    \"test_all_incorrect\": 0.24468085106382978,\n",
    "    \"test_all_other\": 0.06914893617021277,\n",
    "    \"test_ratio_numerator\": 0.3962765957446808,\n",
    "    \"test_ratio_denominator\": 0.48404255319148937,\n",
    "    \"test_ratio\": 0.8186813186813187,\n",
    "    \"test_outcome_divergence\": 0.03643118019935607\n",
    "}\n",
    "run01['mean'] = {\n",
    "    \"test_acc\": 0.6808510638297872,\n",
    "    \"balanced_test_acc\": 0.6808510638297872,\n",
    "    \"test_acc_Man\": 0.7659574468085106,\n",
    "    \"test_acc_Woman\": 0.5957446808510638,\n",
    "    \"test_male_correct\": 0.7659574468085106,\n",
    "    \"test_male_incorrect\": 0.09042553191489362,\n",
    "    \"test_male_other\": 0.14361702127659576,\n",
    "    \"test_female_correct\": 0.5957446808510638,\n",
    "    \"test_female_incorrect\": 0.35638297872340424,\n",
    "    \"test_female_other\": 0.047872340425531915,\n",
    "    \"test_all_correct\": 0.5957446808510638,\n",
    "    \"test_all_incorrect\": 0.35638297872340424,\n",
    "    \"test_all_other\": 0.047872340425531915,\n",
    "    \"test_ratio_numerator\": 0.34308510638297873,\n",
    "    \"test_ratio_denominator\": 0.5611702127659575,\n",
    "    \"test_ratio\": 0.6113744075829384,\n",
    "    \"test_outcome_divergence\": 0.08682744560140032\n",
    "}\n",
    "run01['median'] = {\n",
    "    \"test_acc\": 0.7021276595744681,\n",
    "    \"balanced_test_acc\": 0.7021276595744681,\n",
    "    \"test_acc_Man\": 0.7712765957446809,\n",
    "    \"test_acc_Woman\": 0.6329787234042553,\n",
    "    \"test_male_correct\": 0.7712765957446809,\n",
    "    \"test_male_incorrect\": 0.11702127659574468,\n",
    "    \"test_male_other\": 0.11170212765957446,\n",
    "    \"test_female_correct\": 0.6329787234042553,\n",
    "    \"test_female_incorrect\": 0.3191489361702128,\n",
    "    \"test_female_other\": 0.047872340425531915,\n",
    "    \"test_all_correct\": 0.6329787234042553,\n",
    "    \"test_all_incorrect\": 0.3191489361702128,\n",
    "    \"test_all_other\": 0.047872340425531915,\n",
    "    \"test_ratio_numerator\": 0.375,\n",
    "    \"test_ratio_denominator\": 0.5452127659574468,\n",
    "    \"test_ratio\": 0.6878048780487804,\n",
    "    \"test_outcome_divergence\": 0.049502724377944285\n",
    "}"
   ]
  },
  {
   "cell_type": "code",
   "execution_count": 3,
   "id": "c6320116",
   "metadata": {},
   "outputs": [],
   "source": [
    "# coco_gals_1812_run2.out\n",
    "# coco_mean_1912_run3.out\n",
    "# coco_median_1812_run2.out\n",
    "run1703 = {}\n",
    "run1703['GALS'] = {\n",
    "    \"test_acc\": 0.6622340425531915,\n",
    "    \"balanced_test_acc\": 0.6622340425531914,\n",
    "    \"test_acc_Man\": 0.7127659574468085,\n",
    "    \"test_acc_Woman\": 0.6117021276595744,\n",
    "    \"test_male_correct\": 0.7127659574468085,\n",
    "    \"test_male_incorrect\": 0.1702127659574468,\n",
    "    \"test_male_other\": 0.11702127659574468,\n",
    "    \"test_female_correct\": 0.6117021276595744,\n",
    "    \"test_female_incorrect\": 0.35638297872340424,\n",
    "    \"test_female_other\": 0.031914893617021274,\n",
    "    \"test_all_correct\": 0.6117021276595744,\n",
    "    \"test_all_incorrect\": 0.35638297872340424,\n",
    "    \"test_all_other\": 0.031914893617021274,\n",
    "    \"test_ratio_numerator\": 0.39095744680851063,\n",
    "    \"test_ratio_denominator\": 0.5345744680851063,\n",
    "    \"test_ratio\": 0.7313432835820896,\n",
    "    \"test_outcome_divergence\": 0.0456910358098843\n",
    "}\n",
    "run1703['mean'] = {\n",
    "    \"test_acc\": 0.6941489361702128,\n",
    "    \"balanced_test_acc\": 0.6941489361702128,\n",
    "    \"test_acc_Man\": 0.7659574468085106,\n",
    "    \"test_acc_Woman\": 0.6223404255319149,\n",
    "    \"test_male_correct\": 0.7659574468085106,\n",
    "    \"test_male_incorrect\": 0.10106382978723404,\n",
    "    \"test_male_other\": 0.13297872340425532,\n",
    "    \"test_female_correct\": 0.6223404255319149,\n",
    "    \"test_female_incorrect\": 0.31382978723404253,\n",
    "    \"test_female_other\": 0.06382978723404255,\n",
    "    \"test_all_correct\": 0.6223404255319149,\n",
    "    \"test_all_incorrect\": 0.31382978723404253,\n",
    "    \"test_all_other\": 0.06382978723404255,\n",
    "    \"test_ratio_numerator\": 0.3617021276595745,\n",
    "    \"test_ratio_denominator\": 0.5398936170212766,\n",
    "    \"test_ratio\": 0.6699507389162561,\n",
    "    \"test_outcome_divergence\": 0.0556111093496907\n",
    "}\n",
    "run1703['median'] = {\n",
    "    \"test_acc\": 0.648936170212766,\n",
    "    \"balanced_test_acc\": 0.648936170212766,\n",
    "    \"test_acc_Man\": 0.6968085106382979,\n",
    "    \"test_acc_Woman\": 0.601063829787234,\n",
    "    \"test_male_correct\": 0.6968085106382979,\n",
    "    \"test_male_incorrect\": 0.13297872340425532,\n",
    "    \"test_male_other\": 0.1702127659574468,\n",
    "    \"test_female_correct\": 0.601063829787234,\n",
    "    \"test_female_incorrect\": 0.35106382978723405,\n",
    "    \"test_female_other\": 0.047872340425531915,\n",
    "    \"test_all_correct\": 0.601063829787234,\n",
    "    \"test_all_incorrect\": 0.35106382978723405,\n",
    "    \"test_all_other\": 0.047872340425531915,\n",
    "    \"test_ratio_numerator\": 0.3670212765957447,\n",
    "    \"test_ratio_denominator\": 0.523936170212766,\n",
    "    \"test_ratio\": 0.700507614213198,\n",
    "    \"test_outcome_divergence\": 0.06554660312915425\n",
    "}"
   ]
  },
  {
   "cell_type": "code",
   "execution_count": 4,
   "id": "b7247de7",
   "metadata": {},
   "outputs": [],
   "source": [
    "# coco_gals_1812_run3.out \n",
    "# coco_mean_1812_run1.out\n",
    "# coco_median_1912_run3.out\n",
    "run430 = {}\n",
    "run430['GALS'] = {\n",
    "    \"test_acc\": 0.7207446808510638,\n",
    "    \"balanced_test_acc\": 0.7207446808510638,\n",
    "    \"test_acc_Man\": 0.8404255319148937,\n",
    "    \"test_acc_Woman\": 0.601063829787234,\n",
    "    \"test_male_correct\": 0.8404255319148937,\n",
    "    \"test_male_incorrect\": 0.0851063829787234,\n",
    "    \"test_male_other\": 0.07446808510638298,\n",
    "    \"test_female_correct\": 0.601063829787234,\n",
    "    \"test_female_incorrect\": 0.3829787234042553,\n",
    "    \"test_female_other\": 0.015957446808510637,\n",
    "    \"test_all_correct\": 0.601063829787234,\n",
    "    \"test_all_incorrect\": 0.3829787234042553,\n",
    "    \"test_all_other\": 0.015957446808510637,\n",
    "    \"test_ratio_numerator\": 0.34308510638297873,\n",
    "    \"test_ratio_denominator\": 0.6117021276595744,\n",
    "    \"test_ratio\": 0.5608695652173913,\n",
    "    \"test_outcome_divergence\": 0.10316701205180268\n",
    "}\n",
    "run430['mean'] = {\n",
    "    \"test_acc\": 0.7287234042553191,\n",
    "    \"balanced_test_acc\": 0.7287234042553192,\n",
    "    \"test_acc_Man\": 0.8404255319148937,\n",
    "    \"test_acc_Woman\": 0.6170212765957447,\n",
    "    \"test_male_correct\": 0.8404255319148937,\n",
    "    \"test_male_incorrect\": 0.0851063829787234,\n",
    "    \"test_male_other\": 0.07446808510638298,\n",
    "    \"test_female_correct\": 0.6170212765957447,\n",
    "    \"test_female_incorrect\": 0.3617021276595745,\n",
    "    \"test_female_other\": 0.02127659574468085,\n",
    "    \"test_all_correct\": 0.6170212765957447,\n",
    "    \"test_all_incorrect\": 0.3617021276595745,\n",
    "    \"test_all_other\": 0.02127659574468085,\n",
    "    \"test_ratio_numerator\": 0.35106382978723405,\n",
    "    \"test_ratio_denominator\": 0.601063829787234,\n",
    "    \"test_ratio\": 0.584070796460177,\n",
    "    \"test_outcome_divergence\": 0.09015822204800092\n",
    "}\n",
    "run430['median'] = {\n",
    "    \"test_acc\": 0.7367021276595744,\n",
    "    \"balanced_test_acc\": 0.7367021276595744,\n",
    "    \"test_acc_Man\": 0.8351063829787234,\n",
    "    \"test_acc_Woman\": 0.6382978723404256,\n",
    "    \"test_male_correct\": 0.8351063829787234,\n",
    "    \"test_male_incorrect\": 0.09042553191489362,\n",
    "    \"test_male_other\": 0.07446808510638298,\n",
    "    \"test_female_correct\": 0.6382978723404256,\n",
    "    \"test_female_incorrect\": 0.34574468085106386,\n",
    "    \"test_female_other\": 0.015957446808510637,\n",
    "    \"test_all_correct\": 0.6382978723404256,\n",
    "    \"test_all_incorrect\": 0.34574468085106386,\n",
    "    \"test_all_other\": 0.015957446808510637,\n",
    "    \"test_ratio_numerator\": 0.36436170212765956,\n",
    "    \"test_ratio_denominator\": 0.5904255319148937,\n",
    "    \"test_ratio\": 0.6171171171171171,\n",
    "    \"test_outcome_divergence\": 0.08183044928861478\n",
    "}"
   ]
  },
  {
   "cell_type": "code",
   "execution_count": 5,
   "id": "7a1835f2",
   "metadata": {},
   "outputs": [],
   "source": [
    "# coco_gals_1812_run4.out\n",
    "# coco_mean_1812_run2.out\n",
    "# coco_median_1812_run1.out\n",
    "run933 = {}\n",
    "run933['GALS'] = {\n",
    "    \"test_acc\": 0.6808510638297872,\n",
    "    \"balanced_test_acc\": 0.6808510638297873,\n",
    "    \"test_acc_Man\": 0.5904255319148937,\n",
    "    \"test_acc_Woman\": 0.7712765957446809,\n",
    "    \"test_male_correct\": 0.5904255319148937,\n",
    "    \"test_male_incorrect\": 0.25,\n",
    "    \"test_male_other\": 0.1595744680851064,\n",
    "    \"test_female_correct\": 0.7712765957446809,\n",
    "    \"test_female_incorrect\": 0.19148936170212766,\n",
    "    \"test_female_other\": 0.03723404255319149,\n",
    "    \"test_all_correct\": 0.7712765957446809,\n",
    "    \"test_all_incorrect\": 0.19148936170212766,\n",
    "    \"test_all_other\": 0.03723404255319149,\n",
    "    \"test_ratio_numerator\": 0.5106382978723404,\n",
    "    \"test_ratio_denominator\": 0.39095744680851063,\n",
    "    \"test_ratio\": 1.3061224489795917,\n",
    "    \"test_outcome_divergence\": 0.04103752736806468\n",
    "}\n",
    "run933['mean'] = {\n",
    "    \"test_acc\": 0.6888297872340425,\n",
    "    \"balanced_test_acc\": 0.6888297872340425,\n",
    "    \"test_acc_Man\": 0.6861702127659575,\n",
    "    \"test_acc_Woman\": 0.6914893617021277,\n",
    "    \"test_male_correct\": 0.6861702127659575,\n",
    "    \"test_male_incorrect\": 0.13297872340425532,\n",
    "    \"test_male_other\": 0.18085106382978725,\n",
    "    \"test_female_correct\": 0.6914893617021277,\n",
    "    \"test_female_incorrect\": 0.2393617021276596,\n",
    "    \"test_female_other\": 0.06914893617021277,\n",
    "    \"test_all_correct\": 0.6914893617021277,\n",
    "    \"test_all_incorrect\": 0.2393617021276596,\n",
    "    \"test_all_other\": 0.06914893617021277,\n",
    "    \"test_ratio_numerator\": 0.4122340425531915,\n",
    "    \"test_ratio_denominator\": 0.4627659574468085,\n",
    "    \"test_ratio\": 0.8908045977011494,\n",
    "    \"test_outcome_divergence\": 0.0297780450399842\n",
    "}\n",
    "run933['median'] = {\n",
    "    \"test_acc\": 0.7074468085106383,\n",
    "    \"balanced_test_acc\": 0.7074468085106382,\n",
    "    \"test_acc_Man\": 0.7287234042553191,\n",
    "    \"test_acc_Woman\": 0.6861702127659575,\n",
    "    \"test_male_correct\": 0.7287234042553191,\n",
    "    \"test_male_incorrect\": 0.10638297872340426,\n",
    "    \"test_male_other\": 0.16489361702127658,\n",
    "    \"test_female_correct\": 0.6861702127659575,\n",
    "    \"test_female_incorrect\": 0.2872340425531915,\n",
    "    \"test_female_other\": 0.026595744680851064,\n",
    "    \"test_all_correct\": 0.6861702127659575,\n",
    "    \"test_all_incorrect\": 0.2872340425531915,\n",
    "    \"test_all_other\": 0.026595744680851064,\n",
    "    \"test_ratio_numerator\": 0.3962765957446808,\n",
    "    \"test_ratio_denominator\": 0.5079787234042553,\n",
    "    \"test_ratio\": 0.7801047120418848,\n",
    "    \"test_outcome_divergence\": 0.0716727326447194\n",
    "}"
   ]
  },
  {
   "cell_type": "code",
   "execution_count": 6,
   "id": "7b159f2f",
   "metadata": {},
   "outputs": [],
   "source": [
    "runs_coco_gals = [run0['GALS'], run01['GALS'], run1703['GALS'], run430['GALS'], run933['GALS']]"
   ]
  },
  {
   "cell_type": "code",
   "execution_count": 8,
   "id": "d10cc358",
   "metadata": {},
   "outputs": [],
   "source": [
    "import numpy as np\n",
    "averaged_metrics_coco = {}\n",
    "for key in runs_coco_gals[0].keys():\n",
    "    averaged_metrics_coco[key] = sum([metric[key]*100 for metric in runs_coco_gals]) / len(runs_coco_gals)\n",
    "std_devs_gals_coco = {metric: np.std([run[metric]*100 for run in runs_coco_gals]) for metric in runs_coco_gals[0].keys()}"
   ]
  },
  {
   "cell_type": "code",
   "execution_count": 10,
   "id": "d2bc8f5f",
   "metadata": {},
   "outputs": [
    {
     "data": {
      "text/plain": [
       "{'test_acc': 68.93617021276596,\n",
       " 'balanced_test_acc': 68.93617021276596,\n",
       " 'test_acc_Man': 73.72340425531914,\n",
       " 'test_acc_Woman': 64.14893617021275,\n",
       " 'test_male_correct': 73.72340425531914,\n",
       " 'test_male_incorrect': 13.617021276595745,\n",
       " 'test_male_other': 12.659574468085108,\n",
       " 'test_female_correct': 64.14893617021275,\n",
       " 'test_female_incorrect': 32.02127659574468,\n",
       " 'test_female_other': 3.829787234042553,\n",
       " 'test_all_correct': 64.14893617021275,\n",
       " 'test_all_incorrect': 32.02127659574468,\n",
       " 'test_all_other': 3.829787234042553,\n",
       " 'test_ratio_numerator': 38.88297872340426,\n",
       " 'test_ratio_denominator': 52.87234042553191,\n",
       " 'test_ratio': 78.08392207279758,\n",
       " 'test_outcome_divergence': 7.29285253596821}"
      ]
     },
     "execution_count": 10,
     "metadata": {},
     "output_type": "execute_result"
    }
   ],
   "source": [
    "averaged_metrics_coco"
   ]
  },
  {
   "cell_type": "code",
   "execution_count": 11,
   "id": "6e9b2161",
   "metadata": {},
   "outputs": [
    {
     "data": {
      "text/plain": [
       "{'test_acc': 2.0765129038237347,\n",
       " 'balanced_test_acc': 2.0765129038237373,\n",
       " 'test_acc_Man': 8.910804932498689,\n",
       " 'test_acc_Woman': 8.028920112388597,\n",
       " 'test_male_correct': 8.910804932498689,\n",
       " 'test_male_incorrect': 6.648723400850955,\n",
       " 'test_male_other': 3.4701077511276788,\n",
       " 'test_female_correct': 8.028920112388597,\n",
       " 'test_female_incorrect': 8.788032522580162,\n",
       " 'test_female_other': 1.728518809497013,\n",
       " 'test_all_correct': 8.028920112388597,\n",
       " 'test_all_incorrect': 8.788032522580162,\n",
       " 'test_all_other': 1.728518809497013,\n",
       " 'test_ratio_numerator': 6.974781580066383,\n",
       " 'test_ratio_denominator': 8.562673372430684,\n",
       " 'test_ratio': 28.789825650986977,\n",
       " 'test_outcome_divergence': 4.069605359058804}"
      ]
     },
     "execution_count": 11,
     "metadata": {},
     "output_type": "execute_result"
    }
   ],
   "source": [
    "std_devs_gals_coco"
   ]
  },
  {
   "cell_type": "code",
   "execution_count": 12,
   "id": "5345385a",
   "metadata": {},
   "outputs": [],
   "source": [
    "runs_coco_median = [run0['median'], run01['median'], run1703['median'], run430['median'], run933['median']]"
   ]
  },
  {
   "cell_type": "code",
   "execution_count": 13,
   "id": "f1c308a2",
   "metadata": {},
   "outputs": [],
   "source": [
    "averaged_metrics_coco_med = {}\n",
    "for key in runs_coco_median[0].keys():\n",
    "    averaged_metrics_coco_med[key] = sum([metric[key]*100 for metric in runs_coco_median]) / len(runs_coco_median)\n",
    "std_devs_gals_coco_med = {metric: np.std([run[metric]*100 for run in runs_coco_median]) for metric in runs_coco_median[0].keys()}"
   ]
  },
  {
   "cell_type": "code",
   "execution_count": 14,
   "id": "d12becab",
   "metadata": {},
   "outputs": [
    {
     "data": {
      "text/plain": [
       "{'test_acc': 69.57446808510637,\n",
       " 'balanced_test_acc': 69.57446808510639,\n",
       " 'test_acc_Man': 75.2127659574468,\n",
       " 'test_acc_Woman': 63.93617021276596,\n",
       " 'test_male_correct': 75.2127659574468,\n",
       " 'test_male_incorrect': 11.27659574468085,\n",
       " 'test_male_other': 13.510638297872338,\n",
       " 'test_female_correct': 63.93617021276596,\n",
       " 'test_female_incorrect': 32.234042553191486,\n",
       " 'test_female_other': 3.8297872340425534,\n",
       " 'test_all_correct': 63.93617021276596,\n",
       " 'test_all_incorrect': 32.234042553191486,\n",
       " 'test_all_other': 3.8297872340425534,\n",
       " 'test_ratio_numerator': 37.6063829787234,\n",
       " 'test_ratio_denominator': 53.723404255319146,\n",
       " 'test_ratio': 70.27478899252216,\n",
       " 'test_outcome_divergence': 6.429451609242906}"
      ]
     },
     "execution_count": 14,
     "metadata": {},
     "output_type": "execute_result"
    }
   ],
   "source": [
    "averaged_metrics_coco_med"
   ]
  },
  {
   "cell_type": "code",
   "execution_count": 15,
   "id": "b93f8fb1",
   "metadata": {},
   "outputs": [
    {
     "data": {
      "text/plain": [
       "{'test_acc': 2.8968614477000214,\n",
       " 'balanced_test_acc': 2.896861447700019,\n",
       " 'test_acc_Man': 4.776583898009288,\n",
       " 'test_acc_Woman': 2.7205769899030705,\n",
       " 'test_male_correct': 4.776583898009288,\n",
       " 'test_male_incorrect': 1.4032878679013738,\n",
       " 'test_male_other': 3.6636543314303327,\n",
       " 'test_female_correct': 2.7205769899030705,\n",
       " 'test_female_incorrect': 2.3692614309914983,\n",
       " 'test_female_other': 1.4430489325798443,\n",
       " 'test_all_correct': 2.7205769899030705,\n",
       " 'test_all_incorrect': 2.3692614309914983,\n",
       " 'test_all_other': 1.4430489325798443,\n",
       " 'test_ratio_numerator': 1.1233357490395144,\n",
       " 'test_ratio_denominator': 2.9231131200072547,\n",
       " 'test_ratio': 5.327868354182103,\n",
       " 'test_outcome_divergence': 1.193054782725891}"
      ]
     },
     "execution_count": 15,
     "metadata": {},
     "output_type": "execute_result"
    }
   ],
   "source": [
    "std_devs_gals_coco_med"
   ]
  },
  {
   "cell_type": "code",
   "execution_count": 16,
   "id": "9cf10650",
   "metadata": {},
   "outputs": [],
   "source": [
    "runs_coco_mean = [run0['mean'], run01['mean'], run1703['mean'], run430['mean'], run933['mean']]"
   ]
  },
  {
   "cell_type": "code",
   "execution_count": 17,
   "id": "2a411bad",
   "metadata": {},
   "outputs": [],
   "source": [
    "averaged_metrics_coco_mean = {}\n",
    "for key in runs_coco_mean[0].keys():\n",
    "    averaged_metrics_coco_mean[key] = sum([metric[key]*100 for metric in runs_coco_mean]) / len(runs_coco_mean)\n",
    "std_devs_gals_coco_mean = {metric: np.std([run[metric]*100 for run in runs_coco_mean]) for metric in runs_coco_mean[0].keys()}"
   ]
  },
  {
   "cell_type": "code",
   "execution_count": 18,
   "id": "946f9176",
   "metadata": {},
   "outputs": [
    {
     "data": {
      "text/plain": [
       "{'test_acc': 70.2127659574468,\n",
       " 'balanced_test_acc': 70.2127659574468,\n",
       " 'test_acc_Man': 75.0,\n",
       " 'test_acc_Woman': 65.42553191489363,\n",
       " 'test_male_correct': 75.0,\n",
       " 'test_male_incorrect': 11.914893617021274,\n",
       " 'test_male_other': 13.085106382978726,\n",
       " 'test_female_correct': 65.42553191489363,\n",
       " 'test_female_incorrect': 30.212765957446813,\n",
       " 'test_female_other': 4.361702127659575,\n",
       " 'test_all_correct': 65.42553191489363,\n",
       " 'test_all_incorrect': 30.212765957446813,\n",
       " 'test_all_other': 4.361702127659575,\n",
       " 'test_ratio_numerator': 38.67021276595746,\n",
       " 'test_ratio_denominator': 52.6063829787234,\n",
       " 'test_ratio': 75.12401081321042,\n",
       " 'test_outcome_divergence': 5.979233356685598}"
      ]
     },
     "execution_count": 18,
     "metadata": {},
     "output_type": "execute_result"
    }
   ],
   "source": [
    "averaged_metrics_coco_mean"
   ]
  },
  {
   "cell_type": "code",
   "execution_count": 19,
   "id": "e5529fb0",
   "metadata": {},
   "outputs": [
    {
     "data": {
      "text/plain": [
       "{'test_acc': 1.8194288698390522,\n",
       " 'balanced_test_acc': 1.8194288698390522,\n",
       " 'test_acc_Man': 5.689251896647204,\n",
       " 'test_acc_Woman': 5.5482573661299135,\n",
       " 'test_male_correct': 5.689251896647204,\n",
       " 'test_male_incorrect': 3.740084219414243,\n",
       " 'test_male_other': 3.4406301337864327,\n",
       " 'test_female_correct': 5.5482573661299135,\n",
       " 'test_female_incorrect': 5.386803787732835,\n",
       " 'test_female_other': 2.164573398869767,\n",
       " 'test_all_correct': 5.5482573661299135,\n",
       " 'test_all_incorrect': 5.386803787732835,\n",
       " 'test_all_other': 2.164573398869767,\n",
       " 'test_ratio_numerator': 4.614495828573685,\n",
       " 'test_ratio_denominator': 5.428138714599543,\n",
       " 'test_ratio': 16.46060053906179,\n",
       " 'test_outcome_divergence': 2.4939203196648094}"
      ]
     },
     "execution_count": 19,
     "metadata": {},
     "output_type": "execute_result"
    }
   ],
   "source": [
    "std_devs_gals_coco_mean"
   ]
  },
  {
   "cell_type": "markdown",
   "id": "9007e432",
   "metadata": {},
   "source": [
    "#### Waterbirds 95"
   ]
  },
  {
   "cell_type": "code",
   "execution_count": 1,
   "id": "644abd92",
   "metadata": {},
   "outputs": [],
   "source": [
    "run933 = {}\n",
    "run933['GALS'] = {\n",
    "    \"test_acc\": 0.9686552072800809,\n",
    "    \"balanced_test_acc\": 0.9500874607067706,\n",
    "    \"Land_on_Land_test_acc\": 0.9731121281464531,\n",
    "    \"Land_on_Water_test_acc\": 0.9776951672862454,\n",
    "    \"Water_on_Land_test_acc\": 0.907563025210084,\n",
    "    \"Water_on_Water_test_acc\": 0.9419795221843004,\n",
    "    \"test_acc_Landbird\": 0.974559686888454,\n",
    "    \"test_acc_Waterbird\": 0.9320388349514563\n",
    "}\n",
    "\n",
    "run933['mean'] = {\n",
    "    \"test_acc\": 0.964273677114931,\n",
    "    \"balanced_test_acc\": 0.9568991338609347,\n",
    "    \"Land_on_Land_test_acc\": 0.9679633867276888,\n",
    "    \"Land_on_Water_test_acc\": 0.9628252788104089,\n",
    "    \"Water_on_Land_test_acc\": 0.9411764705882353,\n",
    "    \"Water_on_Water_test_acc\": 0.9556313993174061,\n",
    "    \"test_acc_Landbird\": 0.9663405088062622,\n",
    "    \"test_acc_Waterbird\": 0.9514563106796117\n",
    "}\n",
    "\n",
    "run933['median'] = {\n",
    "    \"test_acc\": 0.9686552072800809,\n",
    "    \"balanced_test_acc\": 0.9524651114099608,\n",
    "    \"Land_on_Land_test_acc\": 0.9748283752860412,\n",
    "    \"Land_on_Water_test_acc\": 0.9702602230483272,\n",
    "    \"Water_on_Land_test_acc\": 0.9159663865546218,\n",
    "    \"Water_on_Water_test_acc\": 0.9488054607508533,\n",
    "    \"test_acc_Landbird\": 0.9733855185909981,\n",
    "    \"test_acc_Waterbird\": 0.9393203883495146\n",
    "}\n"
   ]
  },
  {
   "cell_type": "code",
   "execution_count": 22,
   "id": "b775c371",
   "metadata": {},
   "outputs": [],
   "source": [
    "run430 = {}\n",
    "run430['GALS'] = {\n",
    "    \"test_acc\": 0.9710144927536232,\n",
    "    \"balanced_test_acc\": 0.9537997930712824,\n",
    "    \"Land_on_Land_test_acc\": 0.9776887871853547,\n",
    "    \"Land_on_Water_test_acc\": 0.9727385377942999,\n",
    "    \"Water_on_Land_test_acc\": 0.9159663865546218,\n",
    "    \"Water_on_Water_test_acc\": 0.9488054607508533,\n",
    "    \"test_acc_Landbird\": 0.9761252446183953,\n",
    "    \"test_acc_Waterbird\": 0.9393203883495146\n",
    "}\n",
    "\n",
    "run430['mean'] = {\n",
    "    \"test_acc\": 0.964273677114931,\n",
    "    \"balanced_test_acc\": 0.9568991338609347,\n",
    "    \"Land_on_Land_test_acc\": 0.9679633867276888,\n",
    "    \"Land_on_Water_test_acc\": 0.9628252788104089,\n",
    "    \"Water_on_Land_test_acc\": 0.9411764705882353,\n",
    "    \"Water_on_Water_test_acc\": 0.9556313993174061,\n",
    "    \"test_acc_Landbird\": 0.9663405088062622,\n",
    "    \"test_acc_Waterbird\": 0.9514563106796117\n",
    "}\n",
    "\n",
    "run430['median'] = {\n",
    "    \"test_acc\": 0.9696663296258847,\n",
    "    \"balanced_test_acc\": 0.9551855304325885,\n",
    "    \"Land_on_Land_test_acc\": 0.9748283752860412,\n",
    "    \"Land_on_Water_test_acc\": 0.9727385377942999,\n",
    "    \"Water_on_Land_test_acc\": 0.9243697478991597,\n",
    "    \"Water_on_Water_test_acc\": 0.9488054607508533,\n",
    "    \"test_acc_Landbird\": 0.9741682974559687,\n",
    "    \"test_acc_Waterbird\": 0.941747572815534\n",
    "}\n"
   ]
  },
  {
   "cell_type": "code",
   "execution_count": 11,
   "id": "f6e1f5fe",
   "metadata": {},
   "outputs": [],
   "source": [
    "run1703 = {}\n",
    "run1703['GALS'] = {\n",
    "    \"test_acc\": 0.965958881024604,\n",
    "    \"balanced_test_acc\": 0.9529020821621126,\n",
    "    \"Land_on_Land_test_acc\": 0.9691075514874142,\n",
    "    \"Land_on_Water_test_acc\": 0.9727385377942999,\n",
    "    \"Water_on_Land_test_acc\": 0.9243697478991597,\n",
    "    \"Water_on_Water_test_acc\": 0.9453924914675768,\n",
    "    \"test_acc_Landbird\": 0.9702544031311154,\n",
    "    \"test_acc_Waterbird\": 0.9393203883495146\n",
    "}\n",
    "\n",
    "run1703['mean'] = {\n",
    "    \"test_acc\": 0.9609032692955848,\n",
    "    \"balanced_test_acc\": 0.9562222963698613,\n",
    "    \"Land_on_Land_test_acc\": 0.9633867276887872,\n",
    "    \"Land_on_Water_test_acc\": 0.9578686493184635,\n",
    "    \"Water_on_Land_test_acc\": 0.9411764705882353,\n",
    "    \"Water_on_Water_test_acc\": 0.962457337883959,\n",
    "    \"test_acc_Landbird\": 0.9616438356164384,\n",
    "    \"test_acc_Waterbird\": 0.9563106796116505\n",
    "}\n",
    "\n",
    "run1703['median'] = {\n",
    "    \"test_acc\": 0.967644084934277,\n",
    "    \"balanced_test_acc\": 0.9534935631213898,\n",
    "    \"Land_on_Land_test_acc\": 0.9742562929061785,\n",
    "    \"Land_on_Water_test_acc\": 0.966542750929368,\n",
    "    \"Water_on_Land_test_acc\": 0.9243697478991597,\n",
    "    \"Water_on_Water_test_acc\": 0.9488054607508533,\n",
    "    \"test_acc_Landbird\": 0.9718199608610567,\n",
    "    \"test_acc_Waterbird\": 0.941747572815534\n",
    "}\n"
   ]
  },
  {
   "cell_type": "code",
   "execution_count": 4,
   "id": "d144bc16",
   "metadata": {},
   "outputs": [],
   "source": [
    "seed0 = {}\n",
    "seed0['GALS'] = {\n",
    "    \"test_acc\": 0.9706774519716885,\n",
    "    \"balanced_test_acc\": 0.9520203368554886,\n",
    "    \"Land_on_Land_test_acc\": 0.9776887871853547,\n",
    "    \"Land_on_Water_test_acc\": 0.9776951672862454,\n",
    "    \"Water_on_Land_test_acc\": 0.9243697478991597,\n",
    "    \"Water_on_Water_test_acc\": 0.9283276450511946,\n",
    "    \"test_acc_Landbird\": 0.9776908023483366,\n",
    "    \"test_acc_Waterbird\": 0.9271844660194175\n",
    "}\n",
    "\n",
    "seed0['mean'] = {\n",
    "    \"test_acc\": 0.9696663296258847,\n",
    "    \"balanced_test_acc\": 0.9544260852858946,\n",
    "    \"Land_on_Land_test_acc\": 0.9742562929061785,\n",
    "    \"Land_on_Water_test_acc\": 0.9789343246592317,\n",
    "    \"Water_on_Land_test_acc\": 0.9327731092436975,\n",
    "    \"Water_on_Water_test_acc\": 0.931740614334471,\n",
    "    \"test_acc_Landbird\": 0.9757338551859099,\n",
    "    \"test_acc_Waterbird\": 0.9320388349514563\n",
    "}\n",
    "\n",
    "seed0['median'] = {\n",
    "    \"test_acc\": 0.967644084934277,\n",
    "    \"balanced_test_acc\": 0.9566619108332548,\n",
    "    \"Land_on_Land_test_acc\": 0.971395881006865,\n",
    "    \"Land_on_Water_test_acc\": 0.9702602230483272,\n",
    "    \"Water_on_Land_test_acc\": 0.9327731092436975,\n",
    "    \"Water_on_Water_test_acc\": 0.9522184300341296,\n",
    "    \"test_acc_Landbird\": 0.9710371819960861,\n",
    "    \"test_acc_Waterbird\": 0.9466019417475728\n",
    "}\n"
   ]
  },
  {
   "cell_type": "code",
   "execution_count": 5,
   "id": "237a3185",
   "metadata": {},
   "outputs": [],
   "source": [
    "seed5804 = {}\n",
    "seed5804['GALS'] = {\n",
    "    \"test_acc\": 0.970340411189754,\n",
    "    \"balanced_test_acc\": 0.960054286097981,\n",
    "    \"Land_on_Land_test_acc\": 0.9725400457665904,\n",
    "    \"Land_on_Water_test_acc\": 0.9776951672862454,\n",
    "    \"Water_on_Land_test_acc\": 0.9411764705882353,\n",
    "    \"Water_on_Water_test_acc\": 0.9488054607508533,\n",
    "    \"test_acc_Landbird\": 0.9741682974559687,\n",
    "    \"test_acc_Waterbird\": 0.9466019417475728\n",
    "}\n",
    "\n",
    "seed5804['mean'] = {\n",
    "    \"test_acc\": 0.970340411189754,\n",
    "    \"balanced_test_acc\": 0.9568859383861161,\n",
    "    \"Land_on_Land_test_acc\": 0.9754004576659039,\n",
    "    \"Land_on_Water_test_acc\": 0.9739776951672863,\n",
    "    \"Water_on_Land_test_acc\": 0.9327731092436975,\n",
    "    \"Water_on_Water_test_acc\": 0.9453924914675768,\n",
    "    \"test_acc_Landbird\": 0.9749510763209394,\n",
    "    \"test_acc_Waterbird\": 0.941747572815534\n",
    "}\n",
    "\n",
    "seed5804['median'] = {\n",
    "    \"test_acc\": 0.9716885743174924,\n",
    "    \"balanced_test_acc\": 0.9560375773142719,\n",
    "    \"Land_on_Land_test_acc\": 0.9788329519450801,\n",
    "    \"Land_on_Water_test_acc\": 0.9739776951672863,\n",
    "    \"Water_on_Land_test_acc\": 0.9327731092436975,\n",
    "    \"Water_on_Water_test_acc\": 0.9385665529010239,\n",
    "    \"test_acc_Landbird\": 0.9772994129158513,\n",
    "    \"test_acc_Waterbird\": 0.9368932038834952\n",
    "}\n"
   ]
  },
  {
   "cell_type": "code",
   "execution_count": 23,
   "id": "b936aeae",
   "metadata": {},
   "outputs": [],
   "source": [
    "runs_w95_gals = [seed0['GALS'],run430['GALS'],run933['GALS'],run1703['GALS'],seed5804['GALS']]\n",
    "runs_w95_mean = [seed0['mean'],run430['mean'],run933['mean'],run1703['mean'],seed5804['mean']]\n",
    "runs_w95_median = [seed0['median'],run430['median'],run933['median'],run1703['median'],seed5804['median']]"
   ]
  },
  {
   "cell_type": "code",
   "execution_count": 24,
   "id": "ba8db4ed",
   "metadata": {},
   "outputs": [],
   "source": [
    "import numpy as np\n",
    "averaged_metrics = {}\n",
    "for key in runs_w95_gals[0].keys():\n",
    "    averaged_metrics[key] = sum([metric[key]*100 for metric in runs_w95_gals]) / len(runs_w95_gals)\n",
    "std_devs = {metric: np.std([run[metric]*100 for run in runs_w95_gals]) for metric in runs_w95_gals[0].keys()}"
   ]
  },
  {
   "cell_type": "code",
   "execution_count": 25,
   "id": "112d654a",
   "metadata": {},
   "outputs": [
    {
     "data": {
      "text/plain": [
       "{'test_acc': 96.93292888439501,\n",
       " 'balanced_test_acc': 95.37727917787271,\n",
       " 'Land_on_Land_test_acc': 97.40274599542334,\n",
       " 'Land_on_Water_test_acc': 97.57125154894672,\n",
       " 'Water_on_Land_test_acc': 92.26890756302521,\n",
       " 'Water_on_Water_test_acc': 94.26621160409556,\n",
       " 'test_acc_Landbird': 97.45596868884542,\n",
       " 'test_acc_Waterbird': 93.68932038834951}"
      ]
     },
     "execution_count": 25,
     "metadata": {},
     "output_type": "execute_result"
    }
   ],
   "source": [
    "averaged_metrics"
   ]
  },
  {
   "cell_type": "code",
   "execution_count": 26,
   "id": "0ef4b94e",
   "metadata": {},
   "outputs": [
    {
     "data": {
      "text/plain": [
       "{'test_acc': 0.1870500428110704,\n",
       " 'balanced_test_acc': 0.3372500513179942,\n",
       " 'Land_on_Land_test_acc': 0.32883542021051687,\n",
       " 'Land_on_Water_test_acc': 0.24282426198594362,\n",
       " 'Water_on_Land_test_acc': 1.114831862304332,\n",
       " 'Water_on_Water_test_acc': 0.7601043498744027,\n",
       " 'test_acc_Landbird': 0.2487710149834958,\n",
       " 'test_acc_Waterbird': 0.6691285801985529}"
      ]
     },
     "execution_count": 26,
     "metadata": {},
     "output_type": "execute_result"
    }
   ],
   "source": [
    "std_devs"
   ]
  },
  {
   "cell_type": "code",
   "execution_count": 27,
   "id": "fbc2cd84",
   "metadata": {},
   "outputs": [],
   "source": [
    "import numpy as np\n",
    "averaged_metrics = {}\n",
    "for key in runs_w95_mean[0].keys():\n",
    "    averaged_metrics[key] = sum([metric[key]*100 for metric in runs_w95_mean]) / len(runs_w95_mean)\n",
    "std_devs = {metric: np.std([run[metric]*100 for run in runs_w95_mean]) for metric in runs_w95_mean[0].keys()}"
   ]
  },
  {
   "cell_type": "code",
   "execution_count": 28,
   "id": "26c15f7d",
   "metadata": {},
   "outputs": [
    {
     "data": {
      "text/plain": [
       "{'test_acc': 96.5891472868217,\n",
       " 'balanced_test_acc': 95.62665175527484,\n",
       " 'Land_on_Land_test_acc': 96.97940503432494,\n",
       " 'Land_on_Water_test_acc': 96.728624535316,\n",
       " 'Water_on_Land_test_acc': 93.78151260504201,\n",
       " 'Water_on_Water_test_acc': 95.01706484641639,\n",
       " 'test_acc_Landbird': 96.90019569471625,\n",
       " 'test_acc_Waterbird': 94.66019417475728}"
      ]
     },
     "execution_count": 28,
     "metadata": {},
     "output_type": "execute_result"
    }
   ],
   "source": [
    "averaged_metrics"
   ]
  },
  {
   "cell_type": "code",
   "execution_count": 29,
   "id": "ec55483b",
   "metadata": {},
   "outputs": [
    {
     "data": {
      "text/plain": [
       "{'test_acc': 0.3582158478081966,\n",
       " 'balanced_test_acc': 0.09563718311900707,\n",
       " 'Land_on_Land_test_acc': 0.4451962576280023,\n",
       " 'Land_on_Water_test_acc': 0.7860595552492525,\n",
       " 'Water_on_Land_test_acc': 0.4116789483669192,\n",
       " 'Water_on_Water_test_acc': 1.0706066308094309,\n",
       " 'test_acc_Landbird': 0.5459286348074401,\n",
       " 'test_acc_Waterbird': 0.8683759135921494}"
      ]
     },
     "execution_count": 29,
     "metadata": {},
     "output_type": "execute_result"
    }
   ],
   "source": [
    "std_devs"
   ]
  },
  {
   "cell_type": "code",
   "execution_count": 30,
   "id": "08b384b8",
   "metadata": {},
   "outputs": [],
   "source": [
    "import numpy as np\n",
    "averaged_metrics = {}\n",
    "for key in runs_w95_median[0].keys():\n",
    "    averaged_metrics[key] = sum([metric[key]*100 for metric in runs_w95_median]) / len(runs_w95_median)\n",
    "std_devs = {metric: np.std([run[metric]*100 for run in runs_w95_median]) for metric in runs_w95_median[0].keys()}"
   ]
  },
  {
   "cell_type": "code",
   "execution_count": 31,
   "id": "ea1b9330",
   "metadata": {},
   "outputs": [
    {
     "data": {
      "text/plain": [
       "{'test_acc': 96.90596562184024,\n",
       " 'balanced_test_acc': 95.47687386222931,\n",
       " 'Land_on_Land_test_acc': 97.48283752860411,\n",
       " 'Land_on_Water_test_acc': 97.07558859975218,\n",
       " 'Water_on_Land_test_acc': 92.60504201680672,\n",
       " 'Water_on_Water_test_acc': 94.74402730375425,\n",
       " 'test_acc_Landbird': 97.35420743639921,\n",
       " 'test_acc_Waterbird': 94.12621359223301}"
      ]
     },
     "execution_count": 31,
     "metadata": {},
     "output_type": "execute_result"
    }
   ],
   "source": [
    "averaged_metrics"
   ]
  },
  {
   "cell_type": "code",
   "execution_count": 32,
   "id": "a97fcc28",
   "metadata": {},
   "outputs": [
    {
     "data": {
      "text/plain": [
       "{'test_acc': 0.1513309357643708,\n",
       " 'balanced_test_acc': 0.1568473076036142,\n",
       " 'Land_on_Land_test_acc': 0.23725905438590142,\n",
       " 'Land_on_Water_test_acc': 0.255158119974896,\n",
       " 'Water_on_Land_test_acc': 0.6288499809704081,\n",
       " 'Water_on_Water_test_acc': 0.4629576780290312,\n",
       " 'test_acc_Landbird': 0.21805695932969685,\n",
       " 'test_acc_Waterbird': 0.3220024068306206}"
      ]
     },
     "execution_count": 32,
     "metadata": {},
     "output_type": "execute_result"
    }
   ],
   "source": [
    "std_devs"
   ]
  },
  {
   "cell_type": "markdown",
   "id": "24ba2213",
   "metadata": {},
   "source": [
    "### MEAT"
   ]
  },
  {
   "cell_type": "code",
   "execution_count": 1,
   "id": "f917479c",
   "metadata": {},
   "outputs": [],
   "source": [
    "run0 = {}  # Ensure run0 exists\n",
    "run0['GALS'] = {\n",
    "    'test_acc': 0.85832,\n",
    "    'test_acc_white_meat': 0.8526666666666667,\n",
    "    'test_acc_red_meat': 0.8203076923076923,\n",
    "    'test_acc_fish': 0.8896842105263157,\n",
    "    'balanced_test_acc': 0.8542195231668916\n",
    "}\n",
    "run0['mean'] = {\n",
    "    'test_acc': 0.86,\n",
    "    'test_acc_white_meat': 0.858,\n",
    "    'test_acc_red_meat': 0.8212307692307692,\n",
    "    'test_acc_fish': 0.888421052631579,\n",
    "    'balanced_test_acc': 0.8558839406207827\n",
    "}\n",
    "run0['median'] = {\n",
    "    'test_acc': 0.85472,\n",
    "    'test_acc_white_meat': 0.8508888888888889,\n",
    "    'test_acc_red_meat': 0.8181538461538461,\n",
    "    'test_acc_fish': 0.8833684210526316,\n",
    "    'balanced_test_acc': 0.8508037186984555\n",
    "}\n",
    "\n"
   ]
  },
  {
   "cell_type": "code",
   "execution_count": 2,
   "id": "c24ba98a",
   "metadata": {},
   "outputs": [],
   "source": [
    "run430 = {}  # Ensure run430 exists\n",
    "run430['GALS'] = {\n",
    "    'test_acc': 0.86208,\n",
    "    'test_acc_white_meat': 0.858,\n",
    "    'test_acc_red_meat': 0.815076923076923,\n",
    "    'test_acc_fish': 0.8981052631578947,\n",
    "    'balanced_test_acc': 0.8570607287449392\n",
    "}\n",
    "run430['mean'] = {\n",
    "    'test_acc': 0.8624,\n",
    "    'test_acc_white_meat': 0.8602222222222222,\n",
    "    'test_acc_red_meat': 0.8061538461538461,\n",
    "    'test_acc_fish': 0.9029473684210526,\n",
    "    'balanced_test_acc': 0.8564411455990403\n",
    "}\n",
    "run430['median'] = {\n",
    "    'test_acc': 0.85856,\n",
    "    'test_acc_white_meat': 0.8502222222222222,\n",
    "    'test_acc_red_meat': 0.8043076923076923,\n",
    "    'test_acc_fish': 0.903578947368421,\n",
    "    'balanced_test_acc': 0.8527029539661118\n",
    "}\n"
   ]
  },
  {
   "cell_type": "code",
   "execution_count": 3,
   "id": "5a673fbf",
   "metadata": {},
   "outputs": [],
   "source": [
    "run1703 = {}  # Ensure run1703 exists\n",
    "run1703['GALS'] = {\n",
    "    'test_acc': 0.85648,\n",
    "    'test_acc_white_meat': 0.8526666666666667,\n",
    "    'test_acc_red_meat': 0.812923076923077,\n",
    "    'test_acc_fish': 0.8898947368421053,\n",
    "    'balanced_test_acc': 0.8518281601439496\n",
    "}\n",
    "run1703['mean'] = {\n",
    "    'test_acc': 0.85552,\n",
    "    'test_acc_white_meat': 0.8546666666666667,\n",
    "    'test_acc_red_meat': 0.8046153846153846,\n",
    "    'test_acc_fish': 0.8911578947368421,\n",
    "    'balanced_test_acc': 0.8501466486729644\n",
    "}\n",
    "run1703['median'] = {\n",
    "    'test_acc': 0.85496,\n",
    "    'test_acc_white_meat': 0.8495555555555555,\n",
    "    'test_acc_red_meat': 0.8141538461538461,\n",
    "    'test_acc_fish': 0.888,\n",
    "    'balanced_test_acc': 0.8505698005698005\n",
    "}\n"
   ]
  },
  {
   "cell_type": "code",
   "execution_count": 4,
   "id": "363434e9",
   "metadata": {},
   "outputs": [],
   "source": [
    "run5804 = {}  # Ensure run5804 exists\n",
    "run5804['GALS'] = {\n",
    "    'test_acc': 0.85448,\n",
    "    'test_acc_white_meat': 0.844,\n",
    "    'test_acc_red_meat': 0.8135384615384615,\n",
    "    'test_acc_fish': 0.8924210526315789,\n",
    "    'balanced_test_acc': 0.8499865047233467\n",
    "}\n",
    "run5804['mean'] = {\n",
    "    'test_acc': 0.85976,\n",
    "    'test_acc_white_meat': 0.8593333333333333,\n",
    "    'test_acc_red_meat': 0.812923076923077,\n",
    "    'test_acc_fish': 0.8922105263157895,\n",
    "    'balanced_test_acc': 0.8548223121907332\n",
    "}\n",
    "run5804['median'] = {\n",
    "    'test_acc': 0.85696,\n",
    "    'test_acc_white_meat': 0.844,\n",
    "    'test_acc_red_meat': 0.8132307692307692,\n",
    "    'test_acc_fish': 0.8991578947368422,\n",
    "    'balanced_test_acc': 0.8521295546558704\n",
    "}\n",
    "\n"
   ]
  },
  {
   "cell_type": "code",
   "execution_count": 5,
   "id": "aae2097d",
   "metadata": {},
   "outputs": [],
   "source": [
    "run933 = {}  # Ensure run933 exists\n",
    "run933['GALS'] = {\n",
    "    'test_acc': 0.85792,\n",
    "    'test_acc_white_meat': 0.8611111111111112,\n",
    "    'test_acc_red_meat': 0.8123076923076923,\n",
    "    'test_acc_fish': 0.8861052631578947,\n",
    "    'balanced_test_acc': 0.8531746888588994\n",
    "}\n",
    "run933['mean'] = {\n",
    "    'test_acc': 0.85744,\n",
    "    'test_acc_white_meat': 0.8535555555555555,\n",
    "    'test_acc_red_meat': 0.8126153846153846,\n",
    "    'test_acc_fish': 0.8917894736842106,\n",
    "    'balanced_test_acc': 0.8526534712850502\n",
    "}\n",
    "run933['median'] = {\n",
    "    'test_acc': 0.8552,\n",
    "    'test_acc_white_meat': 0.8475555555555555,\n",
    "    'test_acc_red_meat': 0.8249230769230769,\n",
    "    'test_acc_fish': 0.8831578947368421,\n",
    "    'balanced_test_acc': 0.8518788424051582\n",
    "}\n"
   ]
  },
  {
   "cell_type": "code",
   "execution_count": 13,
   "id": "d4c481f2",
   "metadata": {},
   "outputs": [],
   "source": [
    "run_gals_meat = [run0['GALS'],run1703['GALS'],run430['GALS'],run5804['GALS'],run933['GALS']]\n",
    "run_gals_mean = [run0['mean'], run1703['mean'], run430['mean'], run5804['mean'], run933['mean']]\n",
    "run_gals_median = [run0['median'], run1703['median'], run430['median'], run5804['median'], run933['median']]\n"
   ]
  },
  {
   "cell_type": "code",
   "execution_count": 14,
   "id": "dad9fee8",
   "metadata": {},
   "outputs": [],
   "source": [
    "import numpy as np\n",
    "averaged_metrics = {}\n",
    "for key in run_gals_meat[0].keys():\n",
    "    averaged_metrics[key] = sum([metric[key]*100 for metric in run_gals_meat]) / len(run_gals_meat)\n",
    "std_devs = {metric: np.std([run[metric]*100 for run in run_gals_meat]) for metric in run_gals_meat[0].keys()}"
   ]
  },
  {
   "cell_type": "code",
   "execution_count": 15,
   "id": "2c5736a4",
   "metadata": {},
   "outputs": [
    {
     "name": "stdout",
     "output_type": "stream",
     "text": [
      "metrics gals: {'test_acc': 85.7856, 'test_acc_white_meat': 85.36888888888889, 'test_acc_red_meat': 81.48307692307694, 'test_acc_fish': 89.12421052631578, 'balanced_test_acc': 85.32539211276054} \n",
      " standard dev: {'test_acc': 0.25040894552710935, 'test_acc_white_meat': 0.58247661956999, 'test_acc_red_meat': 0.28890325155213264, 'test_acc_fish': 0.39780004442717426, 'balanced_test_acc': 0.23723091547015057}\n"
     ]
    }
   ],
   "source": [
    "print('metrics gals:', averaged_metrics , '\\n standard dev:', std_devs)"
   ]
  },
  {
   "cell_type": "code",
   "execution_count": 16,
   "id": "cb0d466b",
   "metadata": {},
   "outputs": [],
   "source": [
    "import numpy as np\n",
    "averaged_metrics = {}\n",
    "for key in run_gals_mean[0].keys():\n",
    "    averaged_metrics[key] = sum([metric[key]*100 for metric in run_gals_mean]) / len(run_gals_mean)\n",
    "std_devs = {metric: np.std([run[metric]*100 for run in run_gals_mean]) for metric in run_gals_mean[0].keys()}"
   ]
  },
  {
   "cell_type": "code",
   "execution_count": 17,
   "id": "a8aacf3e",
   "metadata": {},
   "outputs": [
    {
     "name": "stdout",
     "output_type": "stream",
     "text": [
      "metrics mean: {'test_acc': 85.90240000000001, 'test_acc_white_meat': 85.71555555555555, 'test_acc_red_meat': 81.15076923076923, 'test_acc_fish': 89.33052631578948, 'balanced_test_acc': 85.39895036737141} \n",
      " standard dev: {'test_acc': 0.23528161849154786, 'test_acc_white_meat': 0.2608249022421537, 'test_acc_red_meat': 0.589806908529488, 'test_acc_fish': 0.49986590999770886, 'balanced_test_acc': 0.2317132995872283}\n"
     ]
    }
   ],
   "source": [
    "print('metrics mean:', averaged_metrics , '\\n standard dev:', std_devs)"
   ]
  },
  {
   "cell_type": "code",
   "execution_count": 18,
   "id": "17885915",
   "metadata": {},
   "outputs": [],
   "source": [
    "import numpy as np\n",
    "averaged_metrics = {}\n",
    "for key in run_gals_median[0].keys():\n",
    "    averaged_metrics[key] = sum([metric[key]*100 for metric in run_gals_median]) / len(run_gals_median)\n",
    "std_devs = {metric: np.std([run[metric]*100 for run in run_gals_median]) for metric in run_gals_median[0].keys()}"
   ]
  },
  {
   "cell_type": "code",
   "execution_count": 19,
   "id": "d5eada30",
   "metadata": {},
   "outputs": [
    {
     "name": "stdout",
     "output_type": "stream",
     "text": [
      "metrics median: {'test_acc': 85.608, 'test_acc_white_meat': 84.84444444444443, 'test_acc_red_meat': 81.49538461538461, 'test_acc_fish': 89.14526315789473, 'balanced_test_acc': 85.16169740590792} \n",
      " standard dev: {'test_acc': 0.146991156196552, 'test_acc_white_meat': 0.24865067965688117, 'test_acc_red_meat': 0.673164389921205, 'test_acc_fish': 0.839638492319122, 'balanced_test_acc': 0.08085323562597832}\n"
     ]
    }
   ],
   "source": [
    "print('metrics median:', averaged_metrics , '\\n standard dev:', std_devs)"
   ]
  },
  {
   "cell_type": "markdown",
   "id": "d190c5e5",
   "metadata": {},
   "source": [
    "#### RED MEAT"
   ]
  },
  {
   "cell_type": "code",
   "execution_count": 21,
   "id": "9560bede",
   "metadata": {},
   "outputs": [],
   "source": [
    "run0 = {}\n",
    "run0['GALS'] = {\n",
    "    \"test_acc\": 0.736,\n",
    "    \"test_acc_baby_back_ribs\": 0.848,\n",
    "    \"test_acc_filet_mignon\": 0.708,\n",
    "    \"test_acc_pork_chop\": 0.72,\n",
    "    \"test_acc_prime_rib\": 0.852,\n",
    "    \"test_acc_steak\": 0.552,\n",
    "    \"balanced_test_acc\": 0.736\n",
    "}\n",
    "\n",
    "run0['mean'] = {\n",
    "    \"test_acc\": 0.728,\n",
    "    \"test_acc_baby_back_ribs\": 0.876,\n",
    "    \"test_acc_filet_mignon\": 0.704,\n",
    "    \"test_acc_pork_chop\": 0.692,\n",
    "    \"test_acc_prime_rib\": 0.84,\n",
    "    \"test_acc_steak\": 0.528,\n",
    "    \"balanced_test_acc\": 0.728\n",
    "}\n",
    "\n",
    "run0['median'] = {\n",
    "    \"test_acc\": 0.736,\n",
    "    \"test_acc_baby_back_ribs\": 0.848,\n",
    "    \"test_acc_filet_mignon\": 0.732,\n",
    "    \"test_acc_pork_chop\": 0.684,\n",
    "    \"test_acc_prime_rib\": 0.84,\n",
    "    \"test_acc_steak\": 0.576,\n",
    "    \"balanced_test_acc\": 0.736\n",
    "}"
   ]
  },
  {
   "cell_type": "code",
   "execution_count": 22,
   "id": "c15e72e1",
   "metadata": {},
   "outputs": [],
   "source": [
    "run1703 = {}\n",
    "run1703['GALS'] = {\n",
    "    \"test_acc\": 0.7336,\n",
    "    \"test_acc_baby_back_ribs\": 0.864,\n",
    "    \"test_acc_filet_mignon\": 0.704,\n",
    "    \"test_acc_pork_chop\": 0.744,\n",
    "    \"test_acc_prime_rib\": 0.856,\n",
    "    \"test_acc_steak\": 0.5,\n",
    "    \"balanced_test_acc\": 0.7336\n",
    "}\n",
    "\n",
    "run1703['mean'] = {\n",
    "    \"test_acc\": 0.7384,\n",
    "    \"test_acc_baby_back_ribs\": 0.884,\n",
    "    \"test_acc_filet_mignon\": 0.684,\n",
    "    \"test_acc_pork_chop\": 0.696,\n",
    "    \"test_acc_prime_rib\": 0.844,\n",
    "    \"test_acc_steak\": 0.584,\n",
    "    \"balanced_test_acc\": 0.7384000000000001\n",
    "}\n",
    "\n",
    "run1703['median'] = {\n",
    "    \"test_acc\": 0.7296,\n",
    "    \"test_acc_baby_back_ribs\": 0.848,\n",
    "    \"test_acc_filet_mignon\": 0.72,\n",
    "    \"test_acc_pork_chop\": 0.696,\n",
    "    \"test_acc_prime_rib\": 0.856,\n",
    "    \"test_acc_steak\": 0.528,\n",
    "    \"balanced_test_acc\": 0.7296\n",
    "}"
   ]
  },
  {
   "cell_type": "code",
   "execution_count": 23,
   "id": "ec2c6058",
   "metadata": {},
   "outputs": [],
   "source": [
    "run430 = {}\n",
    "run430['GALS'] = {\n",
    "    \"test_acc\": 0.728,\n",
    "    \"test_acc_baby_back_ribs\": 0.868,\n",
    "    \"test_acc_filet_mignon\": 0.712,\n",
    "    \"test_acc_pork_chop\": 0.704,\n",
    "    \"test_acc_prime_rib\": 0.86,\n",
    "    \"test_acc_steak\": 0.496,\n",
    "    \"balanced_test_acc\": 0.728\n",
    "}\n",
    "\n",
    "run430['mean'] = {\n",
    "    \"test_acc\": 0.7392,\n",
    "    \"test_acc_baby_back_ribs\": 0.892,\n",
    "    \"test_acc_filet_mignon\": 0.692,\n",
    "    \"test_acc_pork_chop\": 0.716,\n",
    "    \"test_acc_prime_rib\": 0.852,\n",
    "    \"test_acc_steak\": 0.544,\n",
    "    \"balanced_test_acc\": 0.7392\n",
    "}\n",
    "\n",
    "run430['median'] = {\n",
    "    \"test_acc\": 0.7216,\n",
    "    \"test_acc_baby_back_ribs\": 0.856,\n",
    "    \"test_acc_filet_mignon\": 0.704,\n",
    "    \"test_acc_pork_chop\": 0.692,\n",
    "    \"test_acc_prime_rib\": 0.828,\n",
    "    \"test_acc_steak\": 0.528,\n",
    "    \"balanced_test_acc\": 0.7215999999999999\n",
    "}"
   ]
  },
  {
   "cell_type": "code",
   "execution_count": 24,
   "id": "2dcafd32",
   "metadata": {},
   "outputs": [],
   "source": [
    "run5804 = {}\n",
    "run5804['GALS'] = {\n",
    "    \"test_acc\": 0.728,\n",
    "    \"test_acc_baby_back_ribs\": 0.884,\n",
    "    \"test_acc_filet_mignon\": 0.752,\n",
    "    \"test_acc_pork_chop\": 0.708,\n",
    "    \"test_acc_prime_rib\": 0.848,\n",
    "    \"test_acc_steak\": 0.448,\n",
    "    \"balanced_test_acc\": 0.728\n",
    "}\n",
    "\n",
    "run5804['mean'] = {\n",
    "    \"test_acc\": 0.7392,\n",
    "    \"test_acc_baby_back_ribs\": 0.872,\n",
    "    \"test_acc_filet_mignon\": 0.704,\n",
    "    \"test_acc_pork_chop\": 0.712,\n",
    "    \"test_acc_prime_rib\": 0.832,\n",
    "    \"test_acc_steak\": 0.576,\n",
    "    \"balanced_test_acc\": 0.7392000000000001\n",
    "}\n",
    "\n",
    "run5804['median'] = {\n",
    "    \"test_acc\": 0.7352,\n",
    "    \"test_acc_baby_back_ribs\": 0.88,\n",
    "    \"test_acc_filet_mignon\": 0.668,\n",
    "    \"test_acc_pork_chop\": 0.696,\n",
    "    \"test_acc_prime_rib\": 0.844,\n",
    "    \"test_acc_steak\": 0.588,\n",
    "    \"balanced_test_acc\": 0.7352\n",
    "}"
   ]
  },
  {
   "cell_type": "code",
   "execution_count": 25,
   "id": "af141707",
   "metadata": {},
   "outputs": [],
   "source": [
    "run933 = {}\n",
    "run933['GALS'] = {\n",
    "    \"test_acc\": 0.7392,\n",
    "    \"test_acc_baby_back_ribs\": 0.864,\n",
    "    \"test_acc_filet_mignon\": 0.744,\n",
    "    \"test_acc_pork_chop\": 0.684,\n",
    "    \"test_acc_prime_rib\": 0.88,\n",
    "    \"test_acc_steak\": 0.524,\n",
    "    \"balanced_test_acc\": 0.7392000000000001\n",
    "}\n",
    "\n",
    "run933['mean'] = {\n",
    "    \"test_acc\": 0.7304,\n",
    "    \"test_acc_baby_back_ribs\": 0.868,\n",
    "    \"test_acc_filet_mignon\": 0.692,\n",
    "    \"test_acc_pork_chop\": 0.696,\n",
    "    \"test_acc_prime_rib\": 0.848,\n",
    "    \"test_acc_steak\": 0.548,\n",
    "    \"balanced_test_acc\": 0.7304\n",
    "}\n",
    "\n",
    "run933['median'] = {\n",
    "    \"test_acc\": 0.748,\n",
    "    \"test_acc_baby_back_ribs\": 0.884,\n",
    "    \"test_acc_filet_mignon\": 0.724,\n",
    "    \"test_acc_pork_chop\": 0.716,\n",
    "    \"test_acc_prime_rib\": 0.852,\n",
    "    \"test_acc_steak\": 0.564,\n",
    "    \"balanced_test_acc\": 0.748\n",
    "}"
   ]
  },
  {
   "cell_type": "code",
   "execution_count": 37,
   "id": "0b5cca8d",
   "metadata": {},
   "outputs": [],
   "source": [
    "run_gals_redmeat = [run0['GALS'],run1703['GALS'],run430['GALS'],run5804['GALS'],run933['GALS']]\n",
    "run_gals_redmeat_mean = [run0['mean'], run1703['mean'], run430['mean'], run5804['mean'], run933['mean']]\n",
    "run_gals_redmeat_median = [run0['median'], run1703['median'], run430['median'], run5804['median'], run933['median']]"
   ]
  },
  {
   "cell_type": "code",
   "execution_count": 38,
   "id": "b79f5567",
   "metadata": {},
   "outputs": [],
   "source": [
    "import numpy as np\n",
    "averaged_metrics = {}\n",
    "for key in run_gals_redmeat[0].keys():\n",
    "    averaged_metrics[key] = sum([metric[key]*100 for metric in run_gals_redmeat]) / len(run_gals_redmeat)\n",
    "std_devs = {metric: np.std([run[metric]*100 for run in run_gals_redmeat]) for metric in run_gals_redmeat[0].keys()}"
   ]
  },
  {
   "cell_type": "code",
   "execution_count": 39,
   "id": "0cb15a2f",
   "metadata": {},
   "outputs": [
    {
     "name": "stdout",
     "output_type": "stream",
     "text": [
      "metrics gals: {'test_acc': 73.296, 'test_acc_baby_back_ribs': 86.55999999999999, 'test_acc_filet_mignon': 72.4, 'test_acc_pork_chop': 71.2, 'test_acc_prime_rib': 85.92, 'test_acc_steak': 50.400000000000006, 'balanced_test_acc': 73.296} \n",
      " standard dev: {'test_acc': 0.44224879875472906, 'test_acc_baby_back_ribs': 1.1482160075525882, 'test_acc_filet_mignon': 1.991983935678201, 'test_acc_pork_chop': 1.975854245636556, 'test_acc_prime_rib': 1.11427106217473, 'test_acc_steak': 3.4409301068170506, 'balanced_test_acc': 0.44224879875472906}\n"
     ]
    }
   ],
   "source": [
    "print('metrics gals:', averaged_metrics , '\\n standard dev:', std_devs)"
   ]
  },
  {
   "cell_type": "code",
   "execution_count": 40,
   "id": "1a504772",
   "metadata": {},
   "outputs": [],
   "source": [
    "import numpy as np\n",
    "averaged_metrics = {}\n",
    "for key in run_gals_redmeat_mean[0].keys():\n",
    "    averaged_metrics[key] = sum([metric[key]*100 for metric in run_gals_redmeat_mean]) / len(run_gals_redmeat_mean)\n",
    "std_devs = {metric: np.std([run[metric]*100 for run in run_gals_redmeat_mean]) for metric in run_gals_redmeat_mean[0].keys()}"
   ]
  },
  {
   "cell_type": "code",
   "execution_count": 41,
   "id": "05663201",
   "metadata": {},
   "outputs": [
    {
     "name": "stdout",
     "output_type": "stream",
     "text": [
      "metrics mean: {'test_acc': 73.504, 'test_acc_baby_back_ribs': 87.84, 'test_acc_filet_mignon': 69.52, 'test_acc_pork_chop': 70.23999999999998, 'test_acc_prime_rib': 84.32, 'test_acc_steak': 55.6, 'balanced_test_acc': 73.504} \n",
      " standard dev: {'test_acc': 0.4837189266505899, 'test_acc_baby_back_ribs': 0.8616263691415229, 'test_acc_filet_mignon': 0.775628777186609, 'test_acc_pork_chop': 0.9666436778875687, 'test_acc_prime_rib': 0.6881860213634093, 'test_acc_steak': 2.086144769664844, 'balanced_test_acc': 0.4837189266505919}\n"
     ]
    }
   ],
   "source": [
    "print('metrics mean:', averaged_metrics , '\\n standard dev:', std_devs)"
   ]
  },
  {
   "cell_type": "code",
   "execution_count": 42,
   "id": "62c9b324",
   "metadata": {},
   "outputs": [],
   "source": [
    "import numpy as np\n",
    "averaged_metrics = {}\n",
    "for key in run_gals_redmeat_median[0].keys():\n",
    "    averaged_metrics[key] = sum([metric[key]*100 for metric in run_gals_redmeat_median]) / len(run_gals_redmeat_median)\n",
    "std_devs = {metric: np.std([run[metric]*100 for run in run_gals_redmeat_median]) for metric in run_gals_redmeat_median[0].keys()}"
   ]
  },
  {
   "cell_type": "code",
   "execution_count": 43,
   "id": "45231e16",
   "metadata": {},
   "outputs": [
    {
     "name": "stdout",
     "output_type": "stream",
     "text": [
      "metrics median: {'test_acc': 73.408, 'test_acc_baby_back_ribs': 86.32000000000001, 'test_acc_filet_mignon': 70.96, 'test_acc_pork_chop': 69.67999999999999, 'test_acc_prime_rib': 84.39999999999999, 'test_acc_steak': 55.67999999999999, 'balanced_test_acc': 73.408} \n",
      " standard dev: {'test_acc': 0.8654802135231042, 'test_acc_baby_back_ribs': 1.567673435381237, 'test_acc_filet_mignon': 2.2712111306525435, 'test_acc_pork_chop': 1.0552724766618313, 'test_acc_prime_rib': 0.9797958971132713, 'test_acc_steak': 2.470951233836876, 'balanced_test_acc': 0.8654802135231042}\n"
     ]
    }
   ],
   "source": [
    "print('metrics median:', averaged_metrics , '\\n standard dev:', std_devs)"
   ]
  },
  {
   "cell_type": "code",
   "execution_count": null,
   "id": "18ff420b",
   "metadata": {},
   "outputs": [],
   "source": []
  }
 ],
 "metadata": {
  "kernelspec": {
   "display_name": "gals",
   "language": "python",
   "name": "gals_repo"
  },
  "language_info": {
   "codemirror_mode": {
    "name": "ipython",
    "version": 3
   },
   "file_extension": ".py",
   "mimetype": "text/x-python",
   "name": "python",
   "nbconvert_exporter": "python",
   "pygments_lexer": "ipython3",
   "version": "3.11.3"
  }
 },
 "nbformat": 4,
 "nbformat_minor": 5
}
