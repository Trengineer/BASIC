{
 "cells": [
  {
   "cell_type": "code",
   "execution_count": 21,
   "id": "257ebf47",
   "metadata": {},
   "outputs": [
    
   ],
   "source": [
    "import os\n",
    "import pandas as pd\n",
    "import numpy as np\n",
    "from PIL import Image\n",
    "\n",
    "# Define constants for group names and labels\n",
    "LABELS = ['Landbird', 'Waterbird']\n",
    "\n",
    "class Waterbirds:\n",
    "    def __init__(self, root, captions_root, split='train'):\n",
    "        self.root = os.path.expanduser(root)\n",
    "        self.split = split\n",
    "        self.captions_root = captions_root\n",
    "        # Load metadata\n",
    "        self.metadata_df = pd.read_csv(os.path.join(self.root, 'metadata.csv'))\n",
    "\n",
    "        # Get the labels and corresponding filenames\n",
    "        self.labels = self.metadata_df['y'].values\n",
    "        self.filenames = self.metadata_df['img_filename'].values\n",
    "\n",
    "\n",
    "\n",
    "    def add_captions_to_text_files(self):\n",
    "        text_folder = self.captions_root  # Adjust as necessary\n",
    "\n",
    "        # Iterate through the filenames and labels\n",
    "        for filename, label in zip(self.filenames, self.labels):\n",
    "            #print(filename)\n",
    "            image_name = filename.replace('.jpg', '.txt')  # Assuming .jpg to .txt conversion\n",
    "            #print(image_name)\n",
    "            text_file_path = os.path.join(text_folder, image_name)\n",
    "\n",
    "            # Define prompts based on label\n",
    "            if label == 0:  # Landbird\n",
    "                prompts = [\"an image of a bird\", \"a photo of a bird\", \"an image of a landbird\", \"a photo of a landbird\"]\n",
    "            else:  # Waterbird\n",
    "                prompts = [\"an image of a bird\", \"a photo of a bird\", \"an image of a waterbird\", \"a photo of a waterbird\"]\n",
    "\n",
    "            # Append the prompts to the corresponding text file\n",
    "            if os.path.exists(text_file_path):\n",
    "                # Read existing lines in the text file\n",
    "                with open(text_file_path, 'r') as f:\n",
    "                    existing_prompts = f.read().splitlines()\n",
    "\n",
    "                # Check if any of the prompts are already in the file\n",
    "                if not any(prompt in existing_prompts for prompt in prompts):\n",
    "                    with open(text_file_path, 'a') as f:\n",
    "                        f.write('\\n'.join(prompts) + '\\n')  # Append prompts\n",
    "                    print(f\"Prompts added to {text_file_path}\")\n",
    "                else:\n",
    "                    print(f\"Prompts already exist in {text_file_path}\")\n",
    "            else:\n",
    "                print(f\"Text file not found: {text_file_path}\")\n",
    "            \n",
    "\n",
    "# Usage\n",
    "\n",
    "dataset = Waterbirds('/mimer/NOBACKUP/groups/ulio_inverse/ds-project/GALS/data/waterbird_1.0_forest2water2', '/mimer/NOBACKUP/groups/ulio_inverse/ds-project/ProbVLM/Datasets/text_c10', split='train')  # Specify the path to your dataset\n",
    "dataset.add_captions_to_text_files()\n",
    "\n"
   ]
  }
 ],
 "metadata": {
  "kernelspec": {
   "display_name": "Python (prob2)",
   "language": "python",
   "name": "prob2"
  },
  "language_info": {
   "codemirror_mode": {
    "name": "ipython",
    "version": 3
   },
   "file_extension": ".py",
   "mimetype": "text/x-python",
   "name": "python",
   "nbconvert_exporter": "python",
   "pygments_lexer": "ipython3",
   "version": "3.10.4"
  }
 },
 "nbformat": 4,
 "nbformat_minor": 5
}
